{
  "nbformat": 4,
  "nbformat_minor": 0,
  "metadata": {
    "colab": {
      "name": "LinkedIn_analysis.ipynb",
      "provenance": [],
      "collapsed_sections": [],
      "toc_visible": true
    },
    "kernelspec": {
      "name": "python3",
      "display_name": "Python 3"
    },
    "accelerator": "GPU"
  },
  "cells": [
    {
      "cell_type": "code",
      "metadata": {
        "id": "K13na3oDSXho",
        "colab_type": "code",
        "colab": {}
      },
      "source": [
        "import pandas as pd\n",
        "import numpy as np\n",
        "# !pip install fuzzywuzzy\n",
        "from fuzzywuzzy import fuzz\n",
        "from fuzzywuzzy import process\n",
        "import gensim.downloader as api\n",
        "from gensim.models.keyedvectors import KeyedVectors\n",
        "from sklearn import preprocessing\n",
        "import warnings\n",
        "warnings.filterwarnings('ignore')"
      ],
      "execution_count": 0,
      "outputs": []
    },
    {
      "cell_type": "markdown",
      "metadata": {
        "id": "o3MFCV6rcMvF",
        "colab_type": "text"
      },
      "source": [
        "#Read linked in csv and drop duplicates\n"
      ]
    },
    {
      "cell_type": "code",
      "metadata": {
        "id": "q-KzsZvFTA8P",
        "colab_type": "code",
        "colab": {}
      },
      "source": [
        "df = pd.read_csv('/content/LinkedIn_datasource.csv',sep=',')\n",
        "df.drop_duplicates(inplace=True)"
      ],
      "execution_count": 0,
      "outputs": []
    },
    {
      "cell_type": "code",
      "metadata": {
        "id": "H4JrLnbGSweM",
        "colab_type": "code",
        "outputId": "465e6992-4f07-44ef-9ec9-2d4ca5e09769",
        "colab": {
          "base_uri": "https://localhost:8080/",
          "height": 1000
        }
      },
      "source": [
        "print(\"Before dropping:\",len(df.columns),\"columns\")\n",
        "#drop columns with more than 60% of values missing\n",
        "df_dropped = df.dropna(thresh = (len(df) * .4) , axis = 1)\n",
        "\n",
        "print(\"List of columns dropped\")\n",
        "for col in df.columns.difference(df_dropped.columns):\n",
        "    print(col)\n",
        "\n",
        "df = df_dropped\n",
        "df = df.join(email_col)\n",
        "print(\"After dropping:\",len(df.columns),\"columns\")"
      ],
      "execution_count": 0,
      "outputs": [
        {
          "output_type": "stream",
          "text": [
            "Before dropping: 130 columns\n",
            "List of columns dropped\n",
            "Address\n",
            "Birthday\n",
            "Connected at\n",
            "Education 3\n",
            "Education Degree 3\n",
            "Education Description 1\n",
            "Education Description 2\n",
            "Education Description 3\n",
            "Education End 3\n",
            "Education FOS 3\n",
            "Education Grade 1\n",
            "Education Grade 2\n",
            "Education Grade 3\n",
            "Education Start 3\n",
            "Email\n",
            "Followers\n",
            "Messenger 1\n",
            "Messenger 1 type\n",
            "Messenger 2\n",
            "Messenger 2 type\n",
            "Messenger 3\n",
            "Messenger 3 type\n",
            "Organization 6\n",
            "Organization 7\n",
            "Organization Description 5\n",
            "Organization Description 6\n",
            "Organization Description 7\n",
            "Organization Domain 1\n",
            "Organization Domain 2\n",
            "Organization Domain 3\n",
            "Organization Domain 4\n",
            "Organization Domain 5\n",
            "Organization Domain 6\n",
            "Organization Domain 7\n",
            "Organization End 6\n",
            "Organization End 7\n",
            "Organization LI ID 5\n",
            "Organization LI ID 6\n",
            "Organization LI ID 7\n",
            "Organization LI URL 6\n",
            "Organization LI URL 7\n",
            "Organization Location 5\n",
            "Organization Location 6\n",
            "Organization Location 7\n",
            "Organization Start 6\n",
            "Organization Start 7\n",
            "Organization Title 6\n",
            "Organization Title 7\n",
            "Organization WWW 1\n",
            "Organization WWW 2\n",
            "Organization WWW 3\n",
            "Organization WWW 4\n",
            "Organization WWW 5\n",
            "Organization WWW 6\n",
            "Organization WWW 7\n",
            "Phone 1\n",
            "Phone 1 type\n",
            "Phone 2\n",
            "Phone 2 type\n",
            "Phone 3\n",
            "Phone 3 type\n",
            "Twitter\n",
            "Website 1\n",
            "Website 2\n",
            "Website 3\n",
            "After dropping: 66 columns\n"
          ],
          "name": "stdout"
        }
      ]
    },
    {
      "cell_type": "markdown",
      "metadata": {
        "id": "Whg8bIU4TsuK",
        "colab_type": "text"
      },
      "source": [
        "# Determine Spending power"
      ]
    },
    {
      "cell_type": "markdown",
      "metadata": {
        "id": "XgukHzbHd8E9",
        "colab_type": "text"
      },
      "source": [
        "### Student status\n",
        "Find out if the user is a student or not, by taking their latest education profile. If the the end date of education is before 2019, we assume they are not students, and everyone else will be marked as students."
      ]
    },
    {
      "cell_type": "code",
      "metadata": {
        "id": "UM3Ov_2lmmud",
        "colab_type": "code",
        "outputId": "4bdfbce0-1c46-496c-935d-3f1d6ead4c04",
        "colab": {
          "base_uri": "https://localhost:8080/",
          "height": 347
        }
      },
      "source": [
        "#If a current student, we set their education end date to after 2019 (+4 years), for easier calculation\n",
        "df['Education End 1'][df['Education End 1'] == \"PRESENT\"] = 2023 \n",
        "#Assume if no values entered, they are not student\n",
        "df['Education End 1'] = df['Education End 1'].fillna(0) \n",
        "#Sift out users who are not a student\n",
        "df['Non_Student'] = (df['Education End 1'].astype(int) < 2019).astype(int)\n",
        "\n",
        "df[['Education End 1','Non_Student']].head(10)"
      ],
      "execution_count": 0,
      "outputs": [
        {
          "output_type": "execute_result",
          "data": {
            "text/html": [
              "<div>\n",
              "<style scoped>\n",
              "    .dataframe tbody tr th:only-of-type {\n",
              "        vertical-align: middle;\n",
              "    }\n",
              "\n",
              "    .dataframe tbody tr th {\n",
              "        vertical-align: top;\n",
              "    }\n",
              "\n",
              "    .dataframe thead th {\n",
              "        text-align: right;\n",
              "    }\n",
              "</style>\n",
              "<table border=\"1\" class=\"dataframe\">\n",
              "  <thead>\n",
              "    <tr style=\"text-align: right;\">\n",
              "      <th></th>\n",
              "      <th>Education End 1</th>\n",
              "      <th>Non_Student</th>\n",
              "    </tr>\n",
              "  </thead>\n",
              "  <tbody>\n",
              "    <tr>\n",
              "      <th>0</th>\n",
              "      <td>2019</td>\n",
              "      <td>0</td>\n",
              "    </tr>\n",
              "    <tr>\n",
              "      <th>1</th>\n",
              "      <td>2017</td>\n",
              "      <td>1</td>\n",
              "    </tr>\n",
              "    <tr>\n",
              "      <th>2</th>\n",
              "      <td>2013</td>\n",
              "      <td>1</td>\n",
              "    </tr>\n",
              "    <tr>\n",
              "      <th>3</th>\n",
              "      <td>2011</td>\n",
              "      <td>1</td>\n",
              "    </tr>\n",
              "    <tr>\n",
              "      <th>4</th>\n",
              "      <td>2020</td>\n",
              "      <td>0</td>\n",
              "    </tr>\n",
              "    <tr>\n",
              "      <th>5</th>\n",
              "      <td>2010</td>\n",
              "      <td>1</td>\n",
              "    </tr>\n",
              "    <tr>\n",
              "      <th>6</th>\n",
              "      <td>2014</td>\n",
              "      <td>1</td>\n",
              "    </tr>\n",
              "    <tr>\n",
              "      <th>7</th>\n",
              "      <td>2021</td>\n",
              "      <td>0</td>\n",
              "    </tr>\n",
              "    <tr>\n",
              "      <th>8</th>\n",
              "      <td>2023</td>\n",
              "      <td>0</td>\n",
              "    </tr>\n",
              "    <tr>\n",
              "      <th>9</th>\n",
              "      <td>2016</td>\n",
              "      <td>1</td>\n",
              "    </tr>\n",
              "  </tbody>\n",
              "</table>\n",
              "</div>"
            ],
            "text/plain": [
              "  Education End 1  Non_Student\n",
              "0            2019            0\n",
              "1            2017            1\n",
              "2            2013            1\n",
              "3            2011            1\n",
              "4            2020            0\n",
              "5            2010            1\n",
              "6            2014            1\n",
              "7            2021            0\n",
              "8            2023            0\n",
              "9            2016            1"
            ]
          },
          "metadata": {
            "tags": []
          },
          "execution_count": 7
        }
      ]
    },
    {
      "cell_type": "code",
      "metadata": {
        "id": "dgCbqN-NxKK6",
        "colab_type": "code",
        "outputId": "37707410-27e1-466b-d5dd-ff38b927cd85",
        "colab": {
          "base_uri": "https://localhost:8080/",
          "height": 310
        }
      },
      "source": [
        "CountStatus = pd.value_counts(df['Non_Student'].values, sort=True)   \n",
        "ax = CountStatus.plot.bar(title='Non Student status')\n",
        "ax.set(xlabel=\"Non student\", ylabel=\"count\")"
      ],
      "execution_count": 0,
      "outputs": [
        {
          "output_type": "execute_result",
          "data": {
            "text/plain": [
              "[Text(0, 0.5, 'count'), Text(0.5, 0, 'Non student')]"
            ]
          },
          "metadata": {
            "tags": []
          },
          "execution_count": 8
        },
        {
          "output_type": "display_data",
          "data": {
            "image/png": "[encoded data removed]",
            "text/plain": [
              "<Figure size 432x288 with 1 Axes>"
            ]
          },
          "metadata": {
            "tags": []
          }
        }
      ]
    },
    {
      "cell_type": "markdown",
      "metadata": {
        "id": "eDK9XPtqfxMB",
        "colab_type": "text"
      },
      "source": [
        "### Highest education status\n",
        "Find out the highest education that the user has obtained. This will roughly gauge the potential of their career which translates to their rough remuneration. We use fuzzy matching to match the level of education using keywords such as university, polytechnic or junior college)"
      ]
    },
    {
      "cell_type": "code",
      "metadata": {
        "id": "Jj6sjjqOLuup",
        "colab_type": "code",
        "outputId": "87624da8-8dfa-4eed-9777-e1e389b2ee6b",
        "colab": {
          "base_uri": "https://localhost:8080/",
          "height": 1000
        }
      },
      "source": [
        "#visualize the distribution of schools\n",
        "with pd.option_context('display.max_rows', 300):\n",
        "    print(df['Education 1'].value_counts())"
      ],
      "execution_count": 0,
      "outputs": [
        {
          "output_type": "stream",
          "text": [
            "Singapore Management University                                                                    275\n",
            "National University of Singapore                                                                   121\n",
            "Nanyang Technological University                                                                   104\n",
            "RMIT University                                                                                     49\n",
            "Ngee Ann Polytechnic                                                                                34\n",
            "Murdoch University                                                                                  28\n",
            "Singapore Polytechnic                                                                               28\n",
            "University of London                                                                                27\n",
            "SIM Global Education                                                                                26\n",
            "Nanyang Polytechnic                                                                                 18\n",
            "Temasek Polytechnic                                                                                 16\n",
            "Singapore Institute of Management                                                                   16\n",
            "Singapore University of Social Sciences (SUSS)                                                      14\n",
            "Singapore University of Social Sciences                                                             11\n",
            "Singapore Institute of Technology                                                                    9\n",
            "University of Birmingham                                                                             9\n",
            "University at Buffalo                                                                                8\n",
            "University College Dublin                                                                            6\n",
            "Republic Polytechnic                                                                                 6\n",
            "University of Bradford                                                                               6\n",
            "Curtin University                                                                                    6\n",
            "University of Melbourne                                                                              6\n",
            "Monash University                                                                                    6\n",
            "The University of Western Australia                                                                  6\n",
            "University of London International Programmes                                                        5\n",
            "SIM University                                                                                       5\n",
            "Royal Melbourne Institute of Technology                                                              4\n",
            "University of Wollongong                                                                             4\n",
            "The University of Queensland                                                                         4\n",
            "SIM University, Singapore                                                                            3\n",
            "Curtin University of Technology                                                                      3\n",
            "ACCA                                                                                                 3\n",
            "Informatics                                                                                          3\n",
            "Nanyang Business School, NTU                                                                         3\n",
            "Northumbria University                                                                               3\n",
            "Shatec                                                                                               3\n",
            "RIA School of Real Estate                                                                            3\n",
            "Coventry University                                                                                  3\n",
            "National University of Singapore / NUS                                                               3\n",
            "PSB Academy                                                                                          3\n",
            "LASALLE College of the Arts                                                                          3\n",
            "University of Southampton                                                                            3\n",
            "Curtin Singapore                                                                                     3\n",
            "Singapore University of Technology and Design (SUTD)                                                 3\n",
            "Manchester Business School                                                                           3\n",
            "School of Hard Knocks                                                                                2\n",
            "Technical University Munich                                                                          2\n",
            "Rohilkhand university                                                                                2\n",
            "Universiti Sains Malaysia                                                                            2\n",
            "University of Sydney                                                                                 2\n",
            "RIA School Of Real Estate                                                                            2\n",
            "Kaplan                                                                                               2\n",
            "Polytechnic University of the Philippines                                                            2\n",
            "University of Newcastle                                                                              2\n",
            "Nanyang Business School                                                                              2\n",
            "Curtin University of Technology, WA                                                                  2\n",
            "TMC BUSINESS SCHOOL                                                                                  2\n",
            "National University of Ireland, Dublin (University College Dublin)                                   2\n",
            "Institue of Chartered Public Accountant Singapore                                                    2\n",
            "San Beda College                                                                                     2\n",
            "Singapore Managment University                                                                       2\n",
            "Vancouver University - International Univercity                                                      2\n",
            "Universiti Tunku Abdul Rahman                                                                        2\n",
            "University of Surrey                                                                                 2\n",
            "Heriot-Watt University                                                                               2\n",
            "Auston institute of management & technology                                                          2\n",
            "NTU                                                                                                  2\n",
            "Acharya Institute Of Technology                                                                      2\n",
            "Singapore College of Insurance                                                                       2\n",
            "CFTE - Centre for Finance, Technology and Entrepreneurship                                           2\n",
            "Edith Cowan University                                                                               2\n",
            "Universiti Kebangsaan Malaysia                                                                       2\n",
            "University Of Muhammadiyah Malang                                                                    2\n",
            "Raffles Girls'​ School                                                                               2\n",
            "University of Technology Sydney                                                                      2\n",
            "London School of Economics and Political Science                                                     2\n",
            "Goldsmiths, University of London                                                                     1\n",
            "ATENEO DE NAGA UNIVERSITY                                                                            1\n",
            "Ateneo School of Goverment                                                                           1\n",
            "University of Portsmouth                                                                             1\n",
            "Institute of Technical Education, Balestier                                                          1\n",
            "UNSW                                                                                                 1\n",
            "Charles Sturt University                                                                             1\n",
            "Raffles Design Institute                                                                             1\n",
            "University of San Francisco                                                                          1\n",
            "Hanyang University                                                                                   1\n",
            "The American University in Cairo                                                                     1\n",
            "Georgia Institute of Technology                                                                      1\n",
            "Royal Holloway, University of London                                                                 1\n",
            "Real estate                                                                                          1\n",
            "Lasalle-SIA College of the Arts                                                                      1\n",
            "Diploma Businese  Administration                                                                     1\n",
            "Squared Online                                                                                       1\n",
            "Arcadia University                                                                                   1\n",
            "University of Nevada-Las Vegas , Singapore Campus                                                    1\n",
            "Symbiosis institute of Management Studies                                                            1\n",
            "B.E. (Electronics)                                                                                   1\n",
            "CFA Institute                                                                                        1\n",
            "Universiti Teknologi Malaysia                                                                        1\n",
            "Guru Gobind Singh Indraprastha University                                                            1\n",
            "Foon Yew High School                                                                                 1\n",
            "University of Essex                                                                                  1\n",
            "Ping Yi secondary school                                                                             1\n",
            "MDIS                                                                                                 1\n",
            "Sungkyunkwan University                                                                              1\n",
            "Kaplan Higher Education, Singapore                                                                   1\n",
            "California State University-East Bay                                                                 1\n",
            "Nanyang Junior College                                                                               1\n",
            "Institute Banking and Finance                                                                        1\n",
            "Conventry University UK                                                                              1\n",
            "Shatec Institute                                                                                     1\n",
            "Estate Planning Practitioners Limited                                                                1\n",
            "American Board of Neuro-Linguistic Programming (ABNLP)                                               1\n",
            "The University of Birmingham                                                                         1\n",
            "CPA Australia Program                                                                                1\n",
            "Informatics Singapore                                                                                1\n",
            "Seed institute                                                                                       1\n",
            "University of Illinois at Urbana-Champaign                                                           1\n",
            "University of Glasgow                                                                                1\n",
            "Kurukshetra University                                                                               1\n",
            "The George Washington University                                                                     1\n",
            "University of ireland                                                                                1\n",
            "Corporate Finance Institute® (CFI)                                                                   1\n",
            "Uni of Bradford                                                                                      1\n",
            "Univerity of Leeds, England                                                                          1\n",
            "Tecnológico de Monterrey                                                                             1\n",
            "APM Group, UK                                                                                        1\n",
            "Singapore Institute of Material Management                                                           1\n",
            "State University of New York College at Buffalo                                                      1\n",
            "Nagarjuna College of Engg. & Technology, BANGALORE                                                   1\n",
            "Swinburne University of Technology, Australia                                                        1\n",
            "University of Southeastern Philippines                                                               1\n",
            "Macquarie Graduate School of Management (MGSM)                                                       1\n",
            "Gandhi Instiute of Engineering & Technology                                                          1\n",
            "Multimedia University                                                                                1\n",
            "INTI International University & Colleges                                                             1\n",
            "University of london                                                                                 1\n",
            "University of Newcastle-upon-Tyne                                                                    1\n",
            "Tanjong Katong Technical School.                                                                     1\n",
            "SHATEC                                                                                               1\n",
            "Universiti Putra Malaysia                                                                            1\n",
            "Council Estate Agency                                                                                1\n",
            "Knowledetree training central                                                                        1\n",
            "Mapua Institute of Technology                                                                        1\n",
            "UCL                                                                                                  1\n",
            "University of Michigan                                                                               1\n",
            "Kaplan Professional                                                                                  1\n",
            "Brindavan College Of Engineering                                                                     1\n",
            "Sabanci University                                                                                   1\n",
            "University of Pune                                                                                   1\n",
            "City University of New York                                                                          1\n",
            "University of Cambridge                                                                              1\n",
            "University of Delhi                                                                                  1\n",
            "MDIS Singapore                                                                                       1\n",
            "Diploma in Life Insurance                                                                            1\n",
            "Stanford University                                                                                  1\n",
            "Council Of Estate Agency                                                                             1\n",
            "MBA                                                                                                  1\n",
            "Sun Moon University                                                                                  1\n",
            "Aston Business School                                                                                1\n",
            "Cornell Johnson Graduate School of Management                                                        1\n",
            "Kaplan Higher Education Institute                                                                    1\n",
            "University of Auckland                                                                               1\n",
            "University of Gloucestershire                                                                        1\n",
            "university of Dallas                                                                                 1\n",
            "UNIVERSITY OF NEW SOUTH WALES, SYDNEY, AUSTRALIA                                                     1\n",
            "University of Madras                                                                                 1\n",
            "CTFE                                                                                                 1\n",
            "Bangalore Institute of Technology                                                                    1\n",
            "Chartered Accountants Australia and New Zealand                                                      1\n",
            "Singapore Hotel Associations                                                                         1\n",
            "DigiPen Institute of Technology                                                                      1\n",
            "National University of Ireland, Dublin                                                               1\n",
            "SMK Datuk Menteri Air Hitam                                                                          1\n",
            "University of Northampton                                                                            1\n",
            "SIR MVIT , VTU                                                                                       1\n",
            "SIM-RMIT                                                                                             1\n",
            "Michigan State University                                                                            1\n",
            "The University of Wolverhampton                                                                      1\n",
            "Multimedia University Malaysia                                                                       1\n",
            "SIM Global Education - University of London                                                          1\n",
            "PSB                                                                                                  1\n",
            "Cosmoprof                                                                                            1\n",
            "University of the Philippines                                                                        1\n",
            "Chinese Culture University                                                                           1\n",
            "Ecole Nationale Supérieure d'Informatique et d'Analyse des Systèmes - ENSIAS                         1\n",
            "Shanghai Jiao Tong University                                                                        1\n",
            "CIM | The Chartered Institute of Marketing                                                           1\n",
            "State University of New York at Buffalo                                                              1\n",
            "The Chinese University of Hong Kong                                                                  1\n",
            "INSEAD (SG)                                                                                          1\n",
            "Singapore                                                                                            1\n",
            "University of Calgary                                                                                1\n",
            "INSEAD                                                                                               1\n",
            "Politeknik Negeri Bandung                                                                            1\n",
            "ACJC                                                                                                 1\n",
            "St. Andrew junior college                                                                            1\n",
            "Northeastern University                                                                              1\n",
            "Newcastle University                                                                                 1\n",
            "University of Strathclyde                                                                            1\n",
            "Nanyang Academy of Fine Arts                                                                         1\n",
            "University of Adelaide                                                                               1\n",
            "Southern Cross University                                                                            1\n",
            "University of Canberra                                                                               1\n",
            "La Trobe University                                                                                  1\n",
            "Institute for Adult Learning Singapore                                                               1\n",
            "University of Coventry                                                                               1\n",
            "University of Manitoba                                                                               1\n",
            "Indian Institute of Management Ahmedabad                                                             1\n",
            "Amercian Board of Neuro-Linguistic Programming (ABNLP)                                               1\n",
            "London Business School                                                                               1\n",
            "Uniwersytet Marii Curie-Skłodowskiej w Lublinie                                                      1\n",
            "NUS Business School                                                                                  1\n",
            "Life Insurance Management Research Association - LIMRA International                                 1\n",
            "University of life                                                                                   1\n",
            "EUer Sprachzentrum                                                                                   1\n",
            "University Of Newcastle, Australia                                                                   1\n",
            "Alliance Manchester Business School                                                                  1\n",
            "International College of Management, Sydney                                                          1\n",
            "The Business Continuity Institute                                                                    1\n",
            "AIA Singapore Pte Ltd                                                                                1\n",
            "University of Nevada-Las Vegas, Singapore                                                            1\n",
            "Marketing Institute of Singapore                                                                     1\n",
            "Oxford Brookes University                                                                            1\n",
            "Macquarie Graduate School of Management                                                              1\n",
            "University of Malaya                                                                                 1\n",
            "University of Warwick - Warwick Business School                                                      1\n",
            "European University                                                                                  1\n",
            "IE Business School                                                                                   1\n",
            "Nan Hua Secondary School                                                                             1\n",
            "University of East London                                                                            1\n",
            "University of Winchester                                                                             1\n",
            "Bedok View Secondary                                                                                 1\n",
            "NYP                                                                                                  1\n",
            "Sheffield Hallam University, UK                                                                      1\n",
            "Chartered Financial Analyst                                                                          1\n",
            "Vellore Institute of Technology                                                                      1\n",
            "Henley Business School                                                                               1\n",
            "Trinity University of Asia                                                                           1\n",
            "Institute For Adults Learning                                                                        1\n",
            "Dover ITE                                                                                            1\n",
            "Raffles Institution                                                                                  1\n",
            "Pratt Institute                                                                                      1\n",
            "University of St.Gallen                                                                              1\n",
            "Deakin University                                                                                    1\n",
            "Keele University                                                                                     1\n",
            "The Association of Chartered Certified Accountants (ACCA)                                            1\n",
            "University of Melbourne - Melbourne Business School                                                  1\n",
            "National University of Malaysia                                                                      1\n",
            "Ai Tong School                                                                                       1\n",
            "University of Northumbria                                                                            1\n",
            "CEA Certified                                                                                        1\n",
            "Swinburne University of Technology                                                                   1\n",
            "Attend Singapore Poly                                                                                1\n",
            "RGS                                                                                                  1\n",
            "Cambridge College                                                                                    1\n",
            "Singapore Human Resources Institute (SHRI)                                                           1\n",
            "The London School of Economics and Political Science (LSE)                                           1\n",
            "Harvard Business School                                                                              1\n",
            "National unviversity of singapore                                                                    1\n",
            "Catholic Junior College                                                                              1\n",
            "Korea University                                                                                     1\n",
            "Upper Iowa University                                                                                1\n",
            "SIM Global Education - University of London (UOL)                                                    1\n",
            "University of Waterloo                                                                               1\n",
            "NUS                                                                                                  1\n",
            "James Cook University                                                                                1\n",
            "The University of Edinburgh                                                                          1\n",
            "Anglo Chinese Junior College                                                                         1\n",
            "Bachelor of Engineering                                                                              1\n",
            "Institute of Chartered Accountants in Australia                                                      1\n",
            "The University of Bolton                                                                             1\n",
            "The University of Manchester                                                                         1\n",
            "Tunku Abdul Rahman University College                                                                1\n",
            "University of York                                                                                   1\n",
            "Singapore Institute of Management - University of London                                             1\n",
            "University of London, SIM                                                                            1\n",
            "National institute of Education Singapore                                                            1\n",
            "Singapore Institute of Arbitrators                                                                   1\n",
            "Lyceum of the Philippines University                                                                 1\n",
            "CPA Australia                                                                                        1\n",
            "National University of Singapore, Singapore Management University, Workforce Development Agency      1\n",
            "Wigan & Leigh College United Kingdom                                                                 1\n",
            "University of St. La Salle                                                                           1\n",
            "Name: Education 1, dtype: int64\n"
          ],
          "name": "stdout"
        }
      ]
    },
    {
      "cell_type": "code",
      "metadata": {
        "id": "fLZtq3zV32PQ",
        "colab_type": "code",
        "outputId": "040f2e57-560f-462b-c42f-6581fccd5b5d",
        "colab": {
          "base_uri": "https://localhost:8080/",
          "height": 347
        }
      },
      "source": [
        "data = {'School':[4,3,2,1],\n",
        "        'School1':['University','Polytechnic','Junior College','Below tertiary'],\n",
        "        'School2':['College','High School','','Primary'],\n",
        "        'School3':['SIM Global Education','','','Secondary']}\n",
        "\n",
        "df_match_edu = pd.DataFrame(data)\n",
        "\n",
        "#For every column, we have a list of categories of school for matching\n",
        "#We set a minimum score for matching, if the matching score falls below 30, we set their education category to 1 by default.\n",
        "df['eduscore'] = 50\n",
        "df['Education_category'] = 1\n",
        "\n",
        "for column in df_match_edu.columns[1:]:\n",
        "    match = list(map(lambda x: process.extractOne(x, df_match_edu[column], scorer=fuzz.token_set_ratio, processor=lambda x: x),df['Education 1'].astype(str).str.strip()))\n",
        "    match = pd.DataFrame(match)\n",
        "    match.columns = ['match', 'score', 'index']\n",
        "    df['eduscore1'] = list(match['score'])\n",
        "    df['edu_category'] = list(df_match_edu.loc[match['index']].School)\n",
        "\n",
        "    df['Education_category'] = np.where(df['eduscore']>= df['eduscore1'], df['Education_category'], df['edu_category'])\n",
        "    df['eduscore'] = df[['eduscore', 'eduscore1']].max(axis=1)\n",
        "    \n",
        "df[['Education 1','Education_category']].head(10)"
      ],
      "execution_count": 0,
      "outputs": [
        {
          "output_type": "execute_result",
          "data": {
            "text/html": [
              "<div>\n",
              "<style scoped>\n",
              "    .dataframe tbody tr th:only-of-type {\n",
              "        vertical-align: middle;\n",
              "    }\n",
              "\n",
              "    .dataframe tbody tr th {\n",
              "        vertical-align: top;\n",
              "    }\n",
              "\n",
              "    .dataframe thead th {\n",
              "        text-align: right;\n",
              "    }\n",
              "</style>\n",
              "<table border=\"1\" class=\"dataframe\">\n",
              "  <thead>\n",
              "    <tr style=\"text-align: right;\">\n",
              "      <th></th>\n",
              "      <th>Education 1</th>\n",
              "      <th>Education_category</th>\n",
              "    </tr>\n",
              "  </thead>\n",
              "  <tbody>\n",
              "    <tr>\n",
              "      <th>0</th>\n",
              "      <td>Singapore Management University</td>\n",
              "      <td>4</td>\n",
              "    </tr>\n",
              "    <tr>\n",
              "      <th>1</th>\n",
              "      <td>Singapore Management University</td>\n",
              "      <td>4</td>\n",
              "    </tr>\n",
              "    <tr>\n",
              "      <th>2</th>\n",
              "      <td>Northumbria University</td>\n",
              "      <td>4</td>\n",
              "    </tr>\n",
              "    <tr>\n",
              "      <th>3</th>\n",
              "      <td>Nanyang Technological University</td>\n",
              "      <td>4</td>\n",
              "    </tr>\n",
              "    <tr>\n",
              "      <th>4</th>\n",
              "      <td>SIM Global Education</td>\n",
              "      <td>4</td>\n",
              "    </tr>\n",
              "    <tr>\n",
              "      <th>5</th>\n",
              "      <td>SIM Global Education</td>\n",
              "      <td>4</td>\n",
              "    </tr>\n",
              "    <tr>\n",
              "      <th>6</th>\n",
              "      <td>Murdoch University</td>\n",
              "      <td>4</td>\n",
              "    </tr>\n",
              "    <tr>\n",
              "      <th>7</th>\n",
              "      <td>Singapore Management University</td>\n",
              "      <td>4</td>\n",
              "    </tr>\n",
              "    <tr>\n",
              "      <th>8</th>\n",
              "      <td>University of ireland</td>\n",
              "      <td>4</td>\n",
              "    </tr>\n",
              "    <tr>\n",
              "      <th>9</th>\n",
              "      <td>Singapore Management University</td>\n",
              "      <td>4</td>\n",
              "    </tr>\n",
              "  </tbody>\n",
              "</table>\n",
              "</div>"
            ],
            "text/plain": [
              "                        Education 1  Education_category\n",
              "0   Singapore Management University                   4\n",
              "1   Singapore Management University                   4\n",
              "2            Northumbria University                   4\n",
              "3  Nanyang Technological University                   4\n",
              "4              SIM Global Education                   4\n",
              "5              SIM Global Education                   4\n",
              "6                Murdoch University                   4\n",
              "7   Singapore Management University                   4\n",
              "8             University of ireland                   4\n",
              "9   Singapore Management University                   4"
            ]
          },
          "metadata": {
            "tags": []
          },
          "execution_count": 10
        }
      ]
    },
    {
      "cell_type": "code",
      "metadata": {
        "id": "yvbB7SqyPtPw",
        "colab_type": "code",
        "outputId": "3d8ca3c1-b5c2-4652-c8e6-f832e478a3f3",
        "colab": {
          "base_uri": "https://localhost:8080/",
          "height": 347
        }
      },
      "source": [
        "df[['Education 1','Education_category','eduscore']][df['Education_category']==1].tail(10)"
      ],
      "execution_count": 0,
      "outputs": [
        {
          "output_type": "execute_result",
          "data": {
            "text/html": [
              "<div>\n",
              "<style scoped>\n",
              "    .dataframe tbody tr th:only-of-type {\n",
              "        vertical-align: middle;\n",
              "    }\n",
              "\n",
              "    .dataframe tbody tr th {\n",
              "        vertical-align: top;\n",
              "    }\n",
              "\n",
              "    .dataframe thead th {\n",
              "        text-align: right;\n",
              "    }\n",
              "</style>\n",
              "<table border=\"1\" class=\"dataframe\">\n",
              "  <thead>\n",
              "    <tr style=\"text-align: right;\">\n",
              "      <th></th>\n",
              "      <th>Education 1</th>\n",
              "      <th>Education_category</th>\n",
              "      <th>eduscore</th>\n",
              "    </tr>\n",
              "  </thead>\n",
              "  <tbody>\n",
              "    <tr>\n",
              "      <th>1237</th>\n",
              "      <td>CFTE - Centre for Finance, Technology and Entr...</td>\n",
              "      <td>1</td>\n",
              "      <td>50</td>\n",
              "    </tr>\n",
              "    <tr>\n",
              "      <th>1239</th>\n",
              "      <td>B.E. (Electronics)</td>\n",
              "      <td>1</td>\n",
              "      <td>50</td>\n",
              "    </tr>\n",
              "    <tr>\n",
              "      <th>1241</th>\n",
              "      <td>INSEAD</td>\n",
              "      <td>1</td>\n",
              "      <td>50</td>\n",
              "    </tr>\n",
              "    <tr>\n",
              "      <th>1243</th>\n",
              "      <td>Pratt Institute</td>\n",
              "      <td>1</td>\n",
              "      <td>50</td>\n",
              "    </tr>\n",
              "    <tr>\n",
              "      <th>1244</th>\n",
              "      <td>Vellore Institute of Technology</td>\n",
              "      <td>1</td>\n",
              "      <td>50</td>\n",
              "    </tr>\n",
              "    <tr>\n",
              "      <th>1257</th>\n",
              "      <td>CTFE</td>\n",
              "      <td>1</td>\n",
              "      <td>50</td>\n",
              "    </tr>\n",
              "    <tr>\n",
              "      <th>1262</th>\n",
              "      <td>Chartered Accountants Australia and New Zealand</td>\n",
              "      <td>1</td>\n",
              "      <td>50</td>\n",
              "    </tr>\n",
              "    <tr>\n",
              "      <th>1267</th>\n",
              "      <td>Singapore Institute of Management</td>\n",
              "      <td>1</td>\n",
              "      <td>50</td>\n",
              "    </tr>\n",
              "    <tr>\n",
              "      <th>1268</th>\n",
              "      <td>Uni of Bradford</td>\n",
              "      <td>1</td>\n",
              "      <td>50</td>\n",
              "    </tr>\n",
              "    <tr>\n",
              "      <th>1269</th>\n",
              "      <td>APM Group, UK</td>\n",
              "      <td>1</td>\n",
              "      <td>50</td>\n",
              "    </tr>\n",
              "  </tbody>\n",
              "</table>\n",
              "</div>"
            ],
            "text/plain": [
              "                                            Education 1  ...  eduscore\n",
              "1237  CFTE - Centre for Finance, Technology and Entr...  ...        50\n",
              "1239                                 B.E. (Electronics)  ...        50\n",
              "1241                                             INSEAD  ...        50\n",
              "1243                                    Pratt Institute  ...        50\n",
              "1244                    Vellore Institute of Technology  ...        50\n",
              "1257                                               CTFE  ...        50\n",
              "1262    Chartered Accountants Australia and New Zealand  ...        50\n",
              "1267                  Singapore Institute of Management  ...        50\n",
              "1268                                    Uni of Bradford  ...        50\n",
              "1269                                      APM Group, UK  ...        50\n",
              "\n",
              "[10 rows x 3 columns]"
            ]
          },
          "metadata": {
            "tags": []
          },
          "execution_count": 11
        }
      ]
    },
    {
      "cell_type": "code",
      "metadata": {
        "id": "I283jHkapJAo",
        "colab_type": "code",
        "outputId": "2b790eae-d267-4447-c6c8-9b777a5d8fa2",
        "colab": {
          "base_uri": "https://localhost:8080/",
          "height": 310
        }
      },
      "source": [
        "CountStatus = pd.value_counts(df['Education_category'].values, sort=True)   \n",
        "ax = CountStatus.plot.bar(title='Education category')\n",
        "ax.set(xlabel=\"Education category\", ylabel=\"count\")"
      ],
      "execution_count": 0,
      "outputs": [
        {
          "output_type": "execute_result",
          "data": {
            "text/plain": [
              "[Text(0, 0.5, 'count'), Text(0.5, 0, 'Education category')]"
            ]
          },
          "metadata": {
            "tags": []
          },
          "execution_count": 12
        },
        {
          "output_type": "display_data",
          "data": {
            "image/png": "[encoded data removed]",
            "text/plain": [
              "<Figure size 432x288 with 1 Axes>"
            ]
          },
          "metadata": {
            "tags": []
          }
        }
      ]
    },
    {
      "cell_type": "markdown",
      "metadata": {
        "id": "GuHo2L6pqEty",
        "colab_type": "text"
      },
      "source": [
        "### Years of experience\n",
        "Find out the number of years of experience by subtracting present time or last worked year, by the year the user first worked in, i.e. their first job.\n",
        "We are able to gauge the level of their spending power by looking at the years of experience in the workforce."
      ]
    },
    {
      "cell_type": "code",
      "metadata": {
        "id": "aXVl-WvC3ugt",
        "colab_type": "code",
        "outputId": "acde0f8f-f4aa-4481-815b-2a16e8dcf504",
        "colab": {
          "base_uri": "https://localhost:8080/",
          "height": 364
        }
      },
      "source": [
        "#Initiate new columns to store first and last worked year\n",
        "df['Last_worked_year'] = np.NaN\n",
        "df['First_worked_year'] = np.NaN\n",
        "\n",
        "#If currently working in a job, we set their last worked year as 2019 (current)\n",
        "df['Organization End 1'][df['Organization End 1'] == \"PRESENT\"] = \"2019\"\n",
        "df['Organization End 1'] = df['Organization End 1'].str.extract('(\\d+)')\n",
        "df['Last_worked_year'] = df['Organization End 1']\n",
        "\n",
        "#Keep only the numerical years\n",
        "cols = ['Organization Start 1','Organization Start 2','Organization Start 3','Organization Start 4','Organization Start 5']\n",
        "for col in cols:\n",
        "    df[col] = df[col].str.extract('(\\d+)')\n",
        "\n",
        "#Take the first worked year of their first job, i.e. starting year\n",
        "for col in cols:\n",
        "    df['First_worked_year'][df[col].notnull()] = df[col][df[col].notnull()]\n",
        "\n",
        "#Get working years by subtracting the last worked year by first worked year\n",
        "df['Last_worked_year'] = df['Last_worked_year'].fillna(0).str.extract('(\\d+)')\n",
        "df['First_worked_year'] = df['First_worked_year'].fillna(0).str.extract('(\\d+)')\n",
        "df['Working_years'] = df['Last_worked_year'].astype(float) - df['First_worked_year'].astype(float)\n",
        "\n",
        "df[['Organization End 1','Organization Start 1','Organization Start 2','Organization Start 3','Organization Start 4','Organization Start 5','Working_years']].head(10)"
      ],
      "execution_count": 0,
      "outputs": [
        {
          "output_type": "execute_result",
          "data": {
            "text/html": [
              "<div>\n",
              "<style scoped>\n",
              "    .dataframe tbody tr th:only-of-type {\n",
              "        vertical-align: middle;\n",
              "    }\n",
              "\n",
              "    .dataframe tbody tr th {\n",
              "        vertical-align: top;\n",
              "    }\n",
              "\n",
              "    .dataframe thead th {\n",
              "        text-align: right;\n",
              "    }\n",
              "</style>\n",
              "<table border=\"1\" class=\"dataframe\">\n",
              "  <thead>\n",
              "    <tr style=\"text-align: right;\">\n",
              "      <th></th>\n",
              "      <th>Organization End 1</th>\n",
              "      <th>Organization Start 1</th>\n",
              "      <th>Organization Start 2</th>\n",
              "      <th>Organization Start 3</th>\n",
              "      <th>Organization Start 4</th>\n",
              "      <th>Organization Start 5</th>\n",
              "      <th>Working_years</th>\n",
              "    </tr>\n",
              "  </thead>\n",
              "  <tbody>\n",
              "    <tr>\n",
              "      <th>0</th>\n",
              "      <td>2019</td>\n",
              "      <td>2019</td>\n",
              "      <td>2018</td>\n",
              "      <td>2018</td>\n",
              "      <td>2017</td>\n",
              "      <td>2017</td>\n",
              "      <td>2.0</td>\n",
              "    </tr>\n",
              "    <tr>\n",
              "      <th>1</th>\n",
              "      <td>2019</td>\n",
              "      <td>2017</td>\n",
              "      <td>2017</td>\n",
              "      <td>2016</td>\n",
              "      <td>2015</td>\n",
              "      <td>2014</td>\n",
              "      <td>5.0</td>\n",
              "    </tr>\n",
              "    <tr>\n",
              "      <th>2</th>\n",
              "      <td>2019</td>\n",
              "      <td>2016</td>\n",
              "      <td>2018</td>\n",
              "      <td>2016</td>\n",
              "      <td>2015</td>\n",
              "      <td>2014</td>\n",
              "      <td>5.0</td>\n",
              "    </tr>\n",
              "    <tr>\n",
              "      <th>3</th>\n",
              "      <td>2019</td>\n",
              "      <td>2019</td>\n",
              "      <td>2018</td>\n",
              "      <td>2013</td>\n",
              "      <td>2011</td>\n",
              "      <td>2010</td>\n",
              "      <td>9.0</td>\n",
              "    </tr>\n",
              "    <tr>\n",
              "      <th>4</th>\n",
              "      <td>2019</td>\n",
              "      <td>2019</td>\n",
              "      <td>2018</td>\n",
              "      <td>2017</td>\n",
              "      <td>2017</td>\n",
              "      <td>2017</td>\n",
              "      <td>2.0</td>\n",
              "    </tr>\n",
              "    <tr>\n",
              "      <th>5</th>\n",
              "      <td>2019</td>\n",
              "      <td>2018</td>\n",
              "      <td>2016</td>\n",
              "      <td>2015</td>\n",
              "      <td>2014</td>\n",
              "      <td>2012</td>\n",
              "      <td>7.0</td>\n",
              "    </tr>\n",
              "    <tr>\n",
              "      <th>6</th>\n",
              "      <td>2019</td>\n",
              "      <td>2017</td>\n",
              "      <td>2015</td>\n",
              "      <td>2014</td>\n",
              "      <td>2012</td>\n",
              "      <td>2010</td>\n",
              "      <td>9.0</td>\n",
              "    </tr>\n",
              "    <tr>\n",
              "      <th>7</th>\n",
              "      <td>2019</td>\n",
              "      <td>2019</td>\n",
              "      <td>2015</td>\n",
              "      <td>2014</td>\n",
              "      <td>NaN</td>\n",
              "      <td>NaN</td>\n",
              "      <td>5.0</td>\n",
              "    </tr>\n",
              "    <tr>\n",
              "      <th>8</th>\n",
              "      <td>2019</td>\n",
              "      <td>2016</td>\n",
              "      <td>2018</td>\n",
              "      <td>NaN</td>\n",
              "      <td>NaN</td>\n",
              "      <td>NaN</td>\n",
              "      <td>1.0</td>\n",
              "    </tr>\n",
              "    <tr>\n",
              "      <th>9</th>\n",
              "      <td>2019</td>\n",
              "      <td>2018</td>\n",
              "      <td>2014</td>\n",
              "      <td>2012</td>\n",
              "      <td>2014</td>\n",
              "      <td>NaN</td>\n",
              "      <td>5.0</td>\n",
              "    </tr>\n",
              "  </tbody>\n",
              "</table>\n",
              "</div>"
            ],
            "text/plain": [
              "  Organization End 1 Organization Start 1  ... Organization Start 5 Working_years\n",
              "0               2019                 2019  ...                 2017           2.0\n",
              "1               2019                 2017  ...                 2014           5.0\n",
              "2               2019                 2016  ...                 2014           5.0\n",
              "3               2019                 2019  ...                 2010           9.0\n",
              "4               2019                 2019  ...                 2017           2.0\n",
              "5               2019                 2018  ...                 2012           7.0\n",
              "6               2019                 2017  ...                 2010           9.0\n",
              "7               2019                 2019  ...                  NaN           5.0\n",
              "8               2019                 2016  ...                  NaN           1.0\n",
              "9               2019                 2018  ...                  NaN           5.0\n",
              "\n",
              "[10 rows x 7 columns]"
            ]
          },
          "metadata": {
            "tags": []
          },
          "execution_count": 13
        }
      ]
    },
    {
      "cell_type": "code",
      "metadata": {
        "id": "7BE3UAZPu2-I",
        "colab_type": "code",
        "outputId": "4639c912-95d3-4b74-9da6-b9772b3087bb",
        "colab": {
          "base_uri": "https://localhost:8080/",
          "height": 312
        }
      },
      "source": [
        "CountStatus = pd.value_counts(df['Working_years'].values, sort=True)   \n",
        "ax = CountStatus.sort_values().plot.barh(title='Working years')\n",
        "ax.set(ylabel=\"Working years\", xlabel=\"count\")"
      ],
      "execution_count": 0,
      "outputs": [
        {
          "output_type": "execute_result",
          "data": {
            "text/plain": [
              "[Text(0, 0.5, 'Working years'), Text(0.5, 0, 'count')]"
            ]
          },
          "metadata": {
            "tags": []
          },
          "execution_count": 14
        },
        {
          "output_type": "display_data",
          "data": {
            "image/png": "[encoded data removed]",
            "text/plain": [
              "<Figure size 432x288 with 1 Axes>"
            ]
          },
          "metadata": {
            "tags": []
          }
        }
      ]
    },
    {
      "cell_type": "code",
      "metadata": {
        "id": "upAX1vVH4ueb",
        "colab_type": "code",
        "outputId": "65d95124-c38a-4f25-99f6-2e22827d7ef9",
        "colab": {
          "base_uri": "https://localhost:8080/",
          "height": 312
        }
      },
      "source": [
        "bins = [0, 5, 10, 15, 20, 25, 30,40]\n",
        "s = pd.cut(df['Working_years'], bins=bins).value_counts()\n",
        "s = df.groupby(pd.cut(df['Working_years'], bins=bins)).size()\n",
        "ax = s.plot.barh(title='Working years')\n",
        "ax.set(ylabel=\"Working years\", xlabel=\"count\")"
      ],
      "execution_count": 0,
      "outputs": [
        {
          "output_type": "execute_result",
          "data": {
            "text/plain": [
              "[Text(0, 0.5, 'Working years'), Text(0.5, 0, 'count')]"
            ]
          },
          "metadata": {
            "tags": []
          },
          "execution_count": 15
        },
        {
          "output_type": "display_data",
          "data": {
            "image/png": "[encoded data removed]",
            "text/plain": [
              "<Figure size 432x288 with 1 Axes>"
            ]
          },
          "metadata": {
            "tags": []
          }
        }
      ]
    },
    {
      "cell_type": "markdown",
      "metadata": {
        "id": "pNe-KdJaxmqo",
        "colab_type": "text"
      },
      "source": [
        "### Corporate position\n",
        "Find the job title and standardize it to 3 levels: Director, manager or associate level. A higher corporate position will likely to translate to higher spending power as well.  \n",
        "\n",
        "We perform fuzzy matching on their job titles to match it to a score of 3, with 3 being the highest ranking in the corporate world. "
      ]
    },
    {
      "cell_type": "code",
      "metadata": {
        "id": "jRqEZpfmZhEJ",
        "colab_type": "code",
        "outputId": "6ff5032e-f36f-4bff-84c8-7ac8da696190",
        "colab": {
          "base_uri": "https://localhost:8080/",
          "height": 347
        }
      },
      "source": [
        "data = {'Title':[3,2,1],\n",
        "        'Title1':['Director','Manager','Associate'],\n",
        "        'Title2':['Partner','Supervisor','Executive'],\n",
        "        'Title3':['Founder','Lead','Advisor']}\n",
        "\n",
        "df_match_title = pd.DataFrame(data)\n",
        "\n",
        "#For every column, we have a list of categories of job title for matching. We set the minimum matching score at 30. \n",
        "#If the match score does not exceed 30, we just assume a job title category of 1.\n",
        "df['titlescore'] = 40 \n",
        "df['Title_category'] = 1\n",
        "\n",
        "for column in df_match_title.columns[1:]:\n",
        "    match = list(map(lambda x: process.extractOne(x, df_match_title[column], scorer=fuzz.token_set_ratio, processor=lambda x: x),df['Title'].astype(str).str.strip()))\n",
        "    match = pd.DataFrame(match)\n",
        "    match.columns = ['match', 'score', 'index']\n",
        "    df['titlescore1'] = list(match['score'])\n",
        "    df['title_category'] = list(df_match_title.loc[match['index']].Title)\n",
        "    \n",
        "    df['Title_category'] = np.where(df['titlescore']>= df['titlescore1'], df['Title_category'], df['title_category'])\n",
        "    df['titlescore'] = df[['titlescore', 'titlescore1']].max(axis=1)\n",
        "    \n",
        "df[['Title','Title_category']].head(10)"
      ],
      "execution_count": 0,
      "outputs": [
        {
          "output_type": "execute_result",
          "data": {
            "text/html": [
              "<div>\n",
              "<style scoped>\n",
              "    .dataframe tbody tr th:only-of-type {\n",
              "        vertical-align: middle;\n",
              "    }\n",
              "\n",
              "    .dataframe tbody tr th {\n",
              "        vertical-align: top;\n",
              "    }\n",
              "\n",
              "    .dataframe thead th {\n",
              "        text-align: right;\n",
              "    }\n",
              "</style>\n",
              "<table border=\"1\" class=\"dataframe\">\n",
              "  <thead>\n",
              "    <tr style=\"text-align: right;\">\n",
              "      <th></th>\n",
              "      <th>Title</th>\n",
              "      <th>Title_category</th>\n",
              "    </tr>\n",
              "  </thead>\n",
              "  <tbody>\n",
              "    <tr>\n",
              "      <th>0</th>\n",
              "      <td>Group Governance and Operational Risk Manageme...</td>\n",
              "      <td>1</td>\n",
              "    </tr>\n",
              "    <tr>\n",
              "      <th>1</th>\n",
              "      <td>Estate Analyst at Bequest Pte Ltd</td>\n",
              "      <td>1</td>\n",
              "    </tr>\n",
              "    <tr>\n",
              "      <th>2</th>\n",
              "      <td>Impacting Life One at a Time</td>\n",
              "      <td>1</td>\n",
              "    </tr>\n",
              "    <tr>\n",
              "      <th>3</th>\n",
              "      <td>Manager at Prudential Assurance Company Singapore</td>\n",
              "      <td>2</td>\n",
              "    </tr>\n",
              "    <tr>\n",
              "      <th>4</th>\n",
              "      <td>Senior Financial Planner at GREAT EASTERN</td>\n",
              "      <td>1</td>\n",
              "    </tr>\n",
              "    <tr>\n",
              "      <th>5</th>\n",
              "      <td>Head, Bancassurance Business Development at GR...</td>\n",
              "      <td>1</td>\n",
              "    </tr>\n",
              "    <tr>\n",
              "      <th>6</th>\n",
              "      <td>Assistant Manager, Talent Management at Accoun...</td>\n",
              "      <td>2</td>\n",
              "    </tr>\n",
              "    <tr>\n",
              "      <th>7</th>\n",
              "      <td>Intern at Group Customer Analytics and CRM dep...</td>\n",
              "      <td>1</td>\n",
              "    </tr>\n",
              "    <tr>\n",
              "      <th>8</th>\n",
              "      <td>I'm a simple girl.</td>\n",
              "      <td>1</td>\n",
              "    </tr>\n",
              "    <tr>\n",
              "      <th>9</th>\n",
              "      <td>Wealth Management Specialist at Advisors Allia...</td>\n",
              "      <td>1</td>\n",
              "    </tr>\n",
              "  </tbody>\n",
              "</table>\n",
              "</div>"
            ],
            "text/plain": [
              "                                               Title  Title_category\n",
              "0  Group Governance and Operational Risk Manageme...               1\n",
              "1                  Estate Analyst at Bequest Pte Ltd               1\n",
              "2                       Impacting Life One at a Time               1\n",
              "3  Manager at Prudential Assurance Company Singapore               2\n",
              "4          Senior Financial Planner at GREAT EASTERN               1\n",
              "5  Head, Bancassurance Business Development at GR...               1\n",
              "6  Assistant Manager, Talent Management at Accoun...               2\n",
              "7  Intern at Group Customer Analytics and CRM dep...               1\n",
              "8                                 I'm a simple girl.               1\n",
              "9  Wealth Management Specialist at Advisors Allia...               1"
            ]
          },
          "metadata": {
            "tags": []
          },
          "execution_count": 16
        }
      ]
    },
    {
      "cell_type": "code",
      "metadata": {
        "id": "woLAvsn0CGR-",
        "colab_type": "code",
        "outputId": "8191e680-ff38-4789-c759-524ccba7018a",
        "colab": {
          "base_uri": "https://localhost:8080/",
          "height": 347
        }
      },
      "source": [
        "df[['Title','Title_category','titlescore']][df['Title_category']==3].tail(10)"
      ],
      "execution_count": 0,
      "outputs": [
        {
          "output_type": "execute_result",
          "data": {
            "text/html": [
              "<div>\n",
              "<style scoped>\n",
              "    .dataframe tbody tr th:only-of-type {\n",
              "        vertical-align: middle;\n",
              "    }\n",
              "\n",
              "    .dataframe tbody tr th {\n",
              "        vertical-align: top;\n",
              "    }\n",
              "\n",
              "    .dataframe thead th {\n",
              "        text-align: right;\n",
              "    }\n",
              "</style>\n",
              "<table border=\"1\" class=\"dataframe\">\n",
              "  <thead>\n",
              "    <tr style=\"text-align: right;\">\n",
              "      <th></th>\n",
              "      <th>Title</th>\n",
              "      <th>Title_category</th>\n",
              "      <th>titlescore</th>\n",
              "    </tr>\n",
              "  </thead>\n",
              "  <tbody>\n",
              "    <tr>\n",
              "      <th>1082</th>\n",
              "      <td>Coach , Trainer, Speaker | Founder of Alvin Ch...</td>\n",
              "      <td>3</td>\n",
              "      <td>100</td>\n",
              "    </tr>\n",
              "    <tr>\n",
              "      <th>1114</th>\n",
              "      <td>Financial Doctor</td>\n",
              "      <td>3</td>\n",
              "      <td>42</td>\n",
              "    </tr>\n",
              "    <tr>\n",
              "      <th>1124</th>\n",
              "      <td>Talent &amp; Performance Management Partner</td>\n",
              "      <td>3</td>\n",
              "      <td>100</td>\n",
              "    </tr>\n",
              "    <tr>\n",
              "      <th>1135</th>\n",
              "      <td>Financial service director, Prudential Assurance</td>\n",
              "      <td>3</td>\n",
              "      <td>100</td>\n",
              "    </tr>\n",
              "    <tr>\n",
              "      <th>1151</th>\n",
              "      <td>Group Director at PIAS (Professional Investmen...</td>\n",
              "      <td>3</td>\n",
              "      <td>100</td>\n",
              "    </tr>\n",
              "    <tr>\n",
              "      <th>1172</th>\n",
              "      <td>Founder at Ascension Consultancy</td>\n",
              "      <td>3</td>\n",
              "      <td>100</td>\n",
              "    </tr>\n",
              "    <tr>\n",
              "      <th>1184</th>\n",
              "      <td>Founder | Assets Prestige Alliance - Jaden Wan...</td>\n",
              "      <td>3</td>\n",
              "      <td>100</td>\n",
              "    </tr>\n",
              "    <tr>\n",
              "      <th>1199</th>\n",
              "      <td>Learning Partner at Prudential Assurance Compa...</td>\n",
              "      <td>3</td>\n",
              "      <td>100</td>\n",
              "    </tr>\n",
              "    <tr>\n",
              "      <th>1201</th>\n",
              "      <td>Senior Financial Services Director &amp; Founder a...</td>\n",
              "      <td>3</td>\n",
              "      <td>100</td>\n",
              "    </tr>\n",
              "    <tr>\n",
              "      <th>1250</th>\n",
              "      <td>Financial advisor - Value add to finance portf...</td>\n",
              "      <td>3</td>\n",
              "      <td>100</td>\n",
              "    </tr>\n",
              "  </tbody>\n",
              "</table>\n",
              "</div>"
            ],
            "text/plain": [
              "                                                  Title  ...  titlescore\n",
              "1082  Coach , Trainer, Speaker | Founder of Alvin Ch...  ...         100\n",
              "1114                                   Financial Doctor  ...          42\n",
              "1124            Talent & Performance Management Partner  ...         100\n",
              "1135   Financial service director, Prudential Assurance  ...         100\n",
              "1151  Group Director at PIAS (Professional Investmen...  ...         100\n",
              "1172                   Founder at Ascension Consultancy  ...         100\n",
              "1184  Founder | Assets Prestige Alliance - Jaden Wan...  ...         100\n",
              "1199  Learning Partner at Prudential Assurance Compa...  ...         100\n",
              "1201  Senior Financial Services Director & Founder a...  ...         100\n",
              "1250  Financial advisor - Value add to finance portf...  ...         100\n",
              "\n",
              "[10 rows x 3 columns]"
            ]
          },
          "metadata": {
            "tags": []
          },
          "execution_count": 17
        }
      ]
    },
    {
      "cell_type": "code",
      "metadata": {
        "id": "MB0-XMAs0HiP",
        "colab_type": "code",
        "outputId": "689110e6-26b6-420f-92e2-4dcf28455deb",
        "colab": {
          "base_uri": "https://localhost:8080/",
          "height": 312
        }
      },
      "source": [
        "CountStatus = pd.value_counts(df['Title_category'].values, sort=True)   \n",
        "ax = CountStatus.sort_values().plot.barh(title='Corporate position')\n",
        "ax.set(ylabel=\"Corporate position\", xlabel=\"count\")"
      ],
      "execution_count": 0,
      "outputs": [
        {
          "output_type": "execute_result",
          "data": {
            "text/plain": [
              "[Text(0, 0.5, 'Corporate position'), Text(0.5, 0, 'count')]"
            ]
          },
          "metadata": {
            "tags": []
          },
          "execution_count": 18
        },
        {
          "output_type": "display_data",
          "data": {
            "image/png": "[encoded data removed]",
            "text/plain": [
              "<Figure size 432x288 with 1 Axes>"
            ]
          },
          "metadata": {
            "tags": []
          }
        }
      ]
    },
    {
      "cell_type": "markdown",
      "metadata": {
        "id": "ccRryMjmUMgc",
        "colab_type": "text"
      },
      "source": [
        "# Leasing Propensity"
      ]
    },
    {
      "cell_type": "markdown",
      "metadata": {
        "id": "gEQEeRkCBPnA",
        "colab_type": "text"
      },
      "source": [
        "### Profile matching\n",
        "We also did a similarity score matching of the profiles, to see if any predefined keywords are being mentioned. For instance, if their profiles mention 'meeting' and 'connecting' more often, then we can infer that they are likely to need a vehicle."
      ]
    },
    {
      "cell_type": "code",
      "metadata": {
        "id": "ywtlZbkhWVQM",
        "colab_type": "code",
        "colab": {}
      },
      "source": [
        "#Defining our keyword list\n",
        "keywords = ['meeting','clients','connecting','plan','insurance','travel','advisor']\n",
        "\n",
        "#load the pre-trained vector (trained on wikipedia articles)\n",
        "model = KeyedVectors.load_word2vec_format('/content/glove.6B.50d.txt', binary=False)"
      ],
      "execution_count": 0,
      "outputs": []
    },
    {
      "cell_type": "code",
      "metadata": {
        "id": "jZy_ITq7CWeT",
        "colab_type": "code",
        "colab": {}
      },
      "source": [
        "#If no summary is written, replace by empty string\n",
        "df['Summary'].fillna(\"\",inplace=True)\n",
        "\n",
        "df['Profile_similarity'] = np.NaN\n",
        "\n",
        "prof_sim = []\n",
        "#Find the average similarity across all words in a sentence\n",
        "for sent in df['Summary']:\n",
        "    average_similarity = 0\n",
        "    word_count = 1\n",
        "    avg_sim = 0\n",
        "    #Get the best similarity score for every word in the sentence and in keyword list.\n",
        "    for word in sent:\n",
        "        max_sim = 0\n",
        "        word_count += 1\n",
        "        for kword in keywords:\n",
        "            if word in model.vocab and kword in model.vocab:\n",
        "                if model.similarity(word,kword) > max_sim:\n",
        "                    max_sim = model.similarity(word,kword)\n",
        "        \n",
        "        avg_sim += max_sim\n",
        "    \n",
        "    avg_sim /= word_count\n",
        "    prof_sim.append(avg_sim)    \n",
        "\n",
        "df['Profile_similarity'] =  pd.Series(prof_sim)"
      ],
      "execution_count": 0,
      "outputs": []
    },
    {
      "cell_type": "code",
      "metadata": {
        "id": "4AybP0DRAmKQ",
        "colab_type": "code",
        "outputId": "3c1b8913-1cf9-4713-b5c7-73be418bbbca",
        "colab": {
          "base_uri": "https://localhost:8080/",
          "height": 347
        }
      },
      "source": [
        "df['Profile_similarity'][df['Summary'] == \"\"] = 0\n",
        "df[['Summary','Profile_similarity']].head(10)"
      ],
      "execution_count": 0,
      "outputs": [
        {
          "output_type": "execute_result",
          "data": {
            "text/html": [
              "<div>\n",
              "<style scoped>\n",
              "    .dataframe tbody tr th:only-of-type {\n",
              "        vertical-align: middle;\n",
              "    }\n",
              "\n",
              "    .dataframe tbody tr th {\n",
              "        vertical-align: top;\n",
              "    }\n",
              "\n",
              "    .dataframe thead th {\n",
              "        text-align: right;\n",
              "    }\n",
              "</style>\n",
              "<table border=\"1\" class=\"dataframe\">\n",
              "  <thead>\n",
              "    <tr style=\"text-align: right;\">\n",
              "      <th></th>\n",
              "      <th>Summary</th>\n",
              "      <th>Profile_similarity</th>\n",
              "    </tr>\n",
              "  </thead>\n",
              "  <tbody>\n",
              "    <tr>\n",
              "      <th>0</th>\n",
              "      <td>If there is one element of myself that I have ...</td>\n",
              "      <td>0.320495</td>\n",
              "    </tr>\n",
              "    <tr>\n",
              "      <th>1</th>\n",
              "      <td>Known to be a great team player, Amber has vol...</td>\n",
              "      <td>0.339094</td>\n",
              "    </tr>\n",
              "    <tr>\n",
              "      <th>2</th>\n",
              "      <td>In life, we are facing with a lot of uncertain...</td>\n",
              "      <td>0.333927</td>\n",
              "    </tr>\n",
              "    <tr>\n",
              "      <th>3</th>\n",
              "      <td></td>\n",
              "      <td>0.000000</td>\n",
              "    </tr>\n",
              "    <tr>\n",
              "      <th>4</th>\n",
              "      <td>I am passionate to make sure that you and your...</td>\n",
              "      <td>0.322602</td>\n",
              "    </tr>\n",
              "    <tr>\n",
              "      <th>5</th>\n",
              "      <td>I shall not start off by throwing a bunch of c...</td>\n",
              "      <td>0.299216</td>\n",
              "    </tr>\n",
              "    <tr>\n",
              "      <th>6</th>\n",
              "      <td></td>\n",
              "      <td>0.000000</td>\n",
              "    </tr>\n",
              "    <tr>\n",
              "      <th>7</th>\n",
              "      <td>I am an undergraduate student at Singapore Man...</td>\n",
              "      <td>0.328073</td>\n",
              "    </tr>\n",
              "    <tr>\n",
              "      <th>8</th>\n",
              "      <td>Seeking Good coffee talk.</td>\n",
              "      <td>0.318164</td>\n",
              "    </tr>\n",
              "    <tr>\n",
              "      <th>9</th>\n",
              "      <td>Tung (Steve) is a sophomore student in Singapo...</td>\n",
              "      <td>0.335043</td>\n",
              "    </tr>\n",
              "  </tbody>\n",
              "</table>\n",
              "</div>"
            ],
            "text/plain": [
              "                                             Summary  Profile_similarity\n",
              "0  If there is one element of myself that I have ...            0.320495\n",
              "1  Known to be a great team player, Amber has vol...            0.339094\n",
              "2  In life, we are facing with a lot of uncertain...            0.333927\n",
              "3                                                               0.000000\n",
              "4  I am passionate to make sure that you and your...            0.322602\n",
              "5  I shall not start off by throwing a bunch of c...            0.299216\n",
              "6                                                               0.000000\n",
              "7  I am an undergraduate student at Singapore Man...            0.328073\n",
              "8                          Seeking Good coffee talk.            0.318164\n",
              "9  Tung (Steve) is a sophomore student in Singapo...            0.335043"
            ]
          },
          "metadata": {
            "tags": []
          },
          "execution_count": 24
        }
      ]
    },
    {
      "cell_type": "markdown",
      "metadata": {
        "id": "6nb4dtKehtbC",
        "colab_type": "text"
      },
      "source": [
        "# Multiply relevant columns by their weights (similarity scores)\n",
        "Due to the fuzzy matching process, we assign a category to each profile. However, not all profiles will have a full match and the degree of the match is dependent on the similarity score (in %). Hence, we multiply it to factor the confidence level of the similarity of the category is to the true category. For example, if the score is a 100, it means we are fully confident that the assigned category is true and hence assign a higher score to the profile."
      ]
    },
    {
      "cell_type": "markdown",
      "metadata": {
        "id": "7FR1lpxniFau",
        "colab_type": "text"
      },
      "source": [
        "Highest education status "
      ]
    },
    {
      "cell_type": "code",
      "metadata": {
        "id": "Ki8COy9shlB-",
        "colab_type": "code",
        "outputId": "a60daa9e-2a04-418b-b10b-2cc1021239e2",
        "colab": {
          "base_uri": "https://localhost:8080/",
          "height": 347
        }
      },
      "source": [
        "df['Education_category'] = df['Education_category'] * df['eduscore']\n",
        "df[['Education 1','Education_category','eduscore']].sort_values('Education_category',ascending=False).head(10)"
      ],
      "execution_count": 0,
      "outputs": [
        {
          "output_type": "execute_result",
          "data": {
            "text/html": [
              "<div>\n",
              "<style scoped>\n",
              "    .dataframe tbody tr th:only-of-type {\n",
              "        vertical-align: middle;\n",
              "    }\n",
              "\n",
              "    .dataframe tbody tr th {\n",
              "        vertical-align: top;\n",
              "    }\n",
              "\n",
              "    .dataframe thead th {\n",
              "        text-align: right;\n",
              "    }\n",
              "</style>\n",
              "<table border=\"1\" class=\"dataframe\">\n",
              "  <thead>\n",
              "    <tr style=\"text-align: right;\">\n",
              "      <th></th>\n",
              "      <th>Education 1</th>\n",
              "      <th>Education_category</th>\n",
              "      <th>eduscore</th>\n",
              "    </tr>\n",
              "  </thead>\n",
              "  <tbody>\n",
              "    <tr>\n",
              "      <th>0</th>\n",
              "      <td>Singapore Management University</td>\n",
              "      <td>400</td>\n",
              "      <td>100</td>\n",
              "    </tr>\n",
              "    <tr>\n",
              "      <th>747</th>\n",
              "      <td>Monash University</td>\n",
              "      <td>400</td>\n",
              "      <td>100</td>\n",
              "    </tr>\n",
              "    <tr>\n",
              "      <th>729</th>\n",
              "      <td>University of Winchester</td>\n",
              "      <td>400</td>\n",
              "      <td>100</td>\n",
              "    </tr>\n",
              "    <tr>\n",
              "      <th>730</th>\n",
              "      <td>National University of Singapore</td>\n",
              "      <td>400</td>\n",
              "      <td>100</td>\n",
              "    </tr>\n",
              "    <tr>\n",
              "      <th>731</th>\n",
              "      <td>University College Dublin</td>\n",
              "      <td>400</td>\n",
              "      <td>100</td>\n",
              "    </tr>\n",
              "    <tr>\n",
              "      <th>732</th>\n",
              "      <td>RMIT University</td>\n",
              "      <td>400</td>\n",
              "      <td>100</td>\n",
              "    </tr>\n",
              "    <tr>\n",
              "      <th>734</th>\n",
              "      <td>RMIT University</td>\n",
              "      <td>400</td>\n",
              "      <td>100</td>\n",
              "    </tr>\n",
              "    <tr>\n",
              "      <th>735</th>\n",
              "      <td>National University of Singapore</td>\n",
              "      <td>400</td>\n",
              "      <td>100</td>\n",
              "    </tr>\n",
              "    <tr>\n",
              "      <th>737</th>\n",
              "      <td>The University of Queensland</td>\n",
              "      <td>400</td>\n",
              "      <td>100</td>\n",
              "    </tr>\n",
              "    <tr>\n",
              "      <th>738</th>\n",
              "      <td>National University of Singapore</td>\n",
              "      <td>400</td>\n",
              "      <td>100</td>\n",
              "    </tr>\n",
              "  </tbody>\n",
              "</table>\n",
              "</div>"
            ],
            "text/plain": [
              "                          Education 1  Education_category  eduscore\n",
              "0     Singapore Management University                 400       100\n",
              "747                 Monash University                 400       100\n",
              "729          University of Winchester                 400       100\n",
              "730  National University of Singapore                 400       100\n",
              "731         University College Dublin                 400       100\n",
              "732                   RMIT University                 400       100\n",
              "734                   RMIT University                 400       100\n",
              "735  National University of Singapore                 400       100\n",
              "737      The University of Queensland                 400       100\n",
              "738  National University of Singapore                 400       100"
            ]
          },
          "metadata": {
            "tags": []
          },
          "execution_count": 25
        }
      ]
    },
    {
      "cell_type": "markdown",
      "metadata": {
        "id": "oZD9ibiAklTG",
        "colab_type": "text"
      },
      "source": [
        "Corporate position"
      ]
    },
    {
      "cell_type": "code",
      "metadata": {
        "id": "7sK8PRq-klYj",
        "colab_type": "code",
        "outputId": "49965de9-6245-4ac3-cf21-b06e54c38b2f",
        "colab": {
          "base_uri": "https://localhost:8080/",
          "height": 347
        }
      },
      "source": [
        "df['Title_category_weighted'] = df['Title_category'] * df['titlescore']\n",
        "df[['Title','Title_category_weighted','titlescore']].sort_values('Title_category_weighted',ascending=False).head(10)"
      ],
      "execution_count": 0,
      "outputs": [
        {
          "output_type": "execute_result",
          "data": {
            "text/html": [
              "<div>\n",
              "<style scoped>\n",
              "    .dataframe tbody tr th:only-of-type {\n",
              "        vertical-align: middle;\n",
              "    }\n",
              "\n",
              "    .dataframe tbody tr th {\n",
              "        vertical-align: top;\n",
              "    }\n",
              "\n",
              "    .dataframe thead th {\n",
              "        text-align: right;\n",
              "    }\n",
              "</style>\n",
              "<table border=\"1\" class=\"dataframe\">\n",
              "  <thead>\n",
              "    <tr style=\"text-align: right;\">\n",
              "      <th></th>\n",
              "      <th>Title</th>\n",
              "      <th>Title_category_weighted</th>\n",
              "      <th>titlescore</th>\n",
              "    </tr>\n",
              "  </thead>\n",
              "  <tbody>\n",
              "    <tr>\n",
              "      <th>793</th>\n",
              "      <td>Marketing Director at ERA Real Estate</td>\n",
              "      <td>300</td>\n",
              "      <td>100</td>\n",
              "    </tr>\n",
              "    <tr>\n",
              "      <th>608</th>\n",
              "      <td>Financial Services Director</td>\n",
              "      <td>300</td>\n",
              "      <td>100</td>\n",
              "    </tr>\n",
              "    <tr>\n",
              "      <th>301</th>\n",
              "      <td>Associate District Director at PropNex Realty ...</td>\n",
              "      <td>300</td>\n",
              "      <td>100</td>\n",
              "    </tr>\n",
              "    <tr>\n",
              "      <th>241</th>\n",
              "      <td>Founder at Amazon Lifestyle Academy ⭐ Transfor...</td>\n",
              "      <td>300</td>\n",
              "      <td>100</td>\n",
              "    </tr>\n",
              "    <tr>\n",
              "      <th>866</th>\n",
              "      <td>Senior Marketing Director  at ERA Real Estate</td>\n",
              "      <td>300</td>\n",
              "      <td>100</td>\n",
              "    </tr>\n",
              "    <tr>\n",
              "      <th>266</th>\n",
              "      <td>Associate Group Director at PropNex Realty Pte...</td>\n",
              "      <td>300</td>\n",
              "      <td>100</td>\n",
              "    </tr>\n",
              "    <tr>\n",
              "      <th>867</th>\n",
              "      <td>Group Division Director  at ERA Real Estate</td>\n",
              "      <td>300</td>\n",
              "      <td>100</td>\n",
              "    </tr>\n",
              "    <tr>\n",
              "      <th>303</th>\n",
              "      <td>Senior Associate  Marketing Director at PropNe...</td>\n",
              "      <td>300</td>\n",
              "      <td>100</td>\n",
              "    </tr>\n",
              "    <tr>\n",
              "      <th>1184</th>\n",
              "      <td>Founder | Assets Prestige Alliance - Jaden Wan...</td>\n",
              "      <td>300</td>\n",
              "      <td>100</td>\n",
              "    </tr>\n",
              "    <tr>\n",
              "      <th>872</th>\n",
              "      <td>Senior Marketing Director at ERA Real Estate</td>\n",
              "      <td>300</td>\n",
              "      <td>100</td>\n",
              "    </tr>\n",
              "  </tbody>\n",
              "</table>\n",
              "</div>"
            ],
            "text/plain": [
              "                                                  Title  ...  titlescore\n",
              "793               Marketing Director at ERA Real Estate  ...         100\n",
              "608                         Financial Services Director  ...         100\n",
              "301   Associate District Director at PropNex Realty ...  ...         100\n",
              "241   Founder at Amazon Lifestyle Academy ⭐ Transfor...  ...         100\n",
              "866       Senior Marketing Director  at ERA Real Estate  ...         100\n",
              "266   Associate Group Director at PropNex Realty Pte...  ...         100\n",
              "867         Group Division Director  at ERA Real Estate  ...         100\n",
              "303   Senior Associate  Marketing Director at PropNe...  ...         100\n",
              "1184  Founder | Assets Prestige Alliance - Jaden Wan...  ...         100\n",
              "872        Senior Marketing Director at ERA Real Estate  ...         100\n",
              "\n",
              "[10 rows x 3 columns]"
            ]
          },
          "metadata": {
            "tags": []
          },
          "execution_count": 26
        }
      ]
    },
    {
      "cell_type": "markdown",
      "metadata": {
        "id": "ga9cx5_YH_Q3",
        "colab_type": "text"
      },
      "source": [
        "# Saving the dataframe\n",
        "Sift out only the columns that we need and scale the scores to between 0 and 1."
      ]
    },
    {
      "cell_type": "code",
      "metadata": {
        "id": "VZz89mfBDo5z",
        "colab_type": "code",
        "outputId": "351e016a-83f9-47ba-a1f2-50b39031ede6",
        "colab": {
          "base_uri": "https://localhost:8080/",
          "height": 534
        }
      },
      "source": [
        "df_final = df[['id','Full name','Profile url','Location','Title','Title_category','Organization 1','Working_years','Non_Student','Education_category','Industry','Industry_CustomerFacing','Profile_similarity']]\n",
        "\n",
        "mm_scaler = preprocessing.MinMaxScaler()\n",
        "df_final['Working_years_scaled'] = df['Working_years']\n",
        "df_final['Title_category_scaled'] = df['Title_category_weighted']\n",
        "\n",
        "df_final[['Title_category_scaled','Working_years_scaled','Non_Student','Education_category','Profile_similarity']] = mm_scaler.fit_transform(df_final[['Title_category_scaled','Working_years_scaled','Non_Student','Education_category','Profile_similarity']])\n",
        "df_final.head()"
      ],
      "execution_count": 0,
      "outputs": [
        {
          "output_type": "execute_result",
          "data": {
            "text/html": [
              "<div>\n",
              "<style scoped>\n",
              "    .dataframe tbody tr th:only-of-type {\n",
              "        vertical-align: middle;\n",
              "    }\n",
              "\n",
              "    .dataframe tbody tr th {\n",
              "        vertical-align: top;\n",
              "    }\n",
              "\n",
              "    .dataframe thead th {\n",
              "        text-align: right;\n",
              "    }\n",
              "</style>\n",
              "<table border=\"1\" class=\"dataframe\">\n",
              "  <thead>\n",
              "    <tr style=\"text-align: right;\">\n",
              "      <th></th>\n",
              "      <th>id</th>\n",
              "      <th>Full name</th>\n",
              "      <th>Profile url</th>\n",
              "      <th>Location</th>\n",
              "      <th>Title</th>\n",
              "      <th>Title_category</th>\n",
              "      <th>Organization 1</th>\n",
              "      <th>Working_years</th>\n",
              "      <th>Non_Student</th>\n",
              "      <th>Education_category</th>\n",
              "      <th>Industry</th>\n",
              "      <th>Industry_CustomerFacing</th>\n",
              "      <th>Profile_similarity</th>\n",
              "      <th>Working_years_scaled</th>\n",
              "      <th>Title_category_scaled</th>\n",
              "    </tr>\n",
              "  </thead>\n",
              "  <tbody>\n",
              "    <tr>\n",
              "      <th>0</th>\n",
              "      <td>weienthong</td>\n",
              "      <td>Wei En THONG</td>\n",
              "      <td>https://www.linkedin.com/in/weienthong/</td>\n",
              "      <td>Singapore</td>\n",
              "      <td>Group Governance and Operational Risk Manageme...</td>\n",
              "      <td>1</td>\n",
              "      <td>GREAT EASTERN</td>\n",
              "      <td>2.0</td>\n",
              "      <td>0.0</td>\n",
              "      <td>1.0</td>\n",
              "      <td>Financial Services</td>\n",
              "      <td>1</td>\n",
              "      <td>0.873769</td>\n",
              "      <td>0.050</td>\n",
              "      <td>0.000000</td>\n",
              "    </tr>\n",
              "    <tr>\n",
              "      <th>1</th>\n",
              "      <td>amberpoo</td>\n",
              "      <td>Poo Men Shuen, Amber</td>\n",
              "      <td>https://www.linkedin.com/in/amberpoo/</td>\n",
              "      <td>Singapore</td>\n",
              "      <td>Estate Analyst at Bequest Pte Ltd</td>\n",
              "      <td>1</td>\n",
              "      <td>GREAT EASTERN</td>\n",
              "      <td>5.0</td>\n",
              "      <td>1.0</td>\n",
              "      <td>1.0</td>\n",
              "      <td>Financial Services</td>\n",
              "      <td>1</td>\n",
              "      <td>0.924473</td>\n",
              "      <td>0.125</td>\n",
              "      <td>0.000000</td>\n",
              "    </tr>\n",
              "    <tr>\n",
              "      <th>2</th>\n",
              "      <td>jerome-lim</td>\n",
              "      <td>Jerome Lim</td>\n",
              "      <td>https://www.linkedin.com/in/jerome-lim/</td>\n",
              "      <td>Singapore</td>\n",
              "      <td>Impacting Life One at a Time</td>\n",
              "      <td>1</td>\n",
              "      <td>GREAT EASTERN</td>\n",
              "      <td>5.0</td>\n",
              "      <td>1.0</td>\n",
              "      <td>1.0</td>\n",
              "      <td>Financial Services</td>\n",
              "      <td>1</td>\n",
              "      <td>0.910386</td>\n",
              "      <td>0.125</td>\n",
              "      <td>0.000000</td>\n",
              "    </tr>\n",
              "    <tr>\n",
              "      <th>3</th>\n",
              "      <td>amanda-lim-30813254</td>\n",
              "      <td>Amanda Lim</td>\n",
              "      <td>https://www.linkedin.com/in/amanda-lim-30813254/</td>\n",
              "      <td>Singapore</td>\n",
              "      <td>Manager at Prudential Assurance Company Singapore</td>\n",
              "      <td>2</td>\n",
              "      <td>Prudential Assurance Company Singapore</td>\n",
              "      <td>9.0</td>\n",
              "      <td>1.0</td>\n",
              "      <td>1.0</td>\n",
              "      <td>Financial Services</td>\n",
              "      <td>1</td>\n",
              "      <td>0.000000</td>\n",
              "      <td>0.225</td>\n",
              "      <td>0.615385</td>\n",
              "    </tr>\n",
              "    <tr>\n",
              "      <th>4</th>\n",
              "      <td>ijeremytang</td>\n",
              "      <td>Jeremy Tang</td>\n",
              "      <td>https://www.linkedin.com/in/ijeremytang/</td>\n",
              "      <td>Singapore</td>\n",
              "      <td>Senior Financial Planner at GREAT EASTERN</td>\n",
              "      <td>1</td>\n",
              "      <td>GREAT EASTERN</td>\n",
              "      <td>2.0</td>\n",
              "      <td>0.0</td>\n",
              "      <td>1.0</td>\n",
              "      <td>Financial Services</td>\n",
              "      <td>1</td>\n",
              "      <td>0.879511</td>\n",
              "      <td>0.050</td>\n",
              "      <td>0.000000</td>\n",
              "    </tr>\n",
              "  </tbody>\n",
              "</table>\n",
              "</div>"
            ],
            "text/plain": [
              "                    id  ... Title_category_scaled\n",
              "0           weienthong  ...              0.000000\n",
              "1             amberpoo  ...              0.000000\n",
              "2           jerome-lim  ...              0.000000\n",
              "3  amanda-lim-30813254  ...              0.615385\n",
              "4          ijeremytang  ...              0.000000\n",
              "\n",
              "[5 rows x 15 columns]"
            ]
          },
          "metadata": {
            "tags": []
          },
          "execution_count": 28
        }
      ]
    },
    {
      "cell_type": "code",
      "metadata": {
        "id": "eW52kZPvNY8Y",
        "colab_type": "code",
        "colab": {}
      },
      "source": [
        "df_final.to_csv('Linkedin_processed_withscore.csv')"
      ],
      "execution_count": 0,
      "outputs": []
    },
    {
      "cell_type": "markdown",
      "metadata": {
        "id": "Y3vfN9j9COEm",
        "colab_type": "text"
      },
      "source": [
        "# Determining their spending power score and leasing propensity score.\n",
        "The scores of each measure in spending power and leasing propensity is summed up normalized to a range of 0 to 2 per profile, with 2 indicating the highest score (most valuable customer)"
      ]
    },
    {
      "cell_type": "code",
      "metadata": {
        "id": "KaTofWOOCEng",
        "colab_type": "code",
        "colab": {}
      },
      "source": [
        "df = pd.read_csv('/content/Linkedin_processed_withscore.csv')"
      ],
      "execution_count": 0,
      "outputs": []
    },
    {
      "cell_type": "code",
      "metadata": {
        "id": "r9O5_UMtCIe3",
        "colab_type": "code",
        "outputId": "42fb745a-8ed7-4b10-e6fb-13af3ab275fd",
        "colab": {
          "base_uri": "https://localhost:8080/",
          "height": 534
        }
      },
      "source": [
        "df['Spending Power'] = df['Title_category_scaled'] + df['Non_Student'] + df['Education_category'] +df['Working_years_scaled']\n",
        "df['Leasing Propensity'] = df['Profile_similarity'] \n",
        "\n",
        "mm_scaler = preprocessing.MinMaxScaler()\n",
        "df[['Spending Power','Leasing Propensity']] = mm_scaler.fit_transform(df[['Spending Power','Leasing Propensity']])\n",
        "df.head()"
      ],
      "execution_count": 0,
      "outputs": [
        {
          "output_type": "execute_result",
          "data": {
            "text/html": [
              "<div>\n",
              "<style scoped>\n",
              "    .dataframe tbody tr th:only-of-type {\n",
              "        vertical-align: middle;\n",
              "    }\n",
              "\n",
              "    .dataframe tbody tr th {\n",
              "        vertical-align: top;\n",
              "    }\n",
              "\n",
              "    .dataframe thead th {\n",
              "        text-align: right;\n",
              "    }\n",
              "</style>\n",
              "<table border=\"1\" class=\"dataframe\">\n",
              "  <thead>\n",
              "    <tr style=\"text-align: right;\">\n",
              "      <th></th>\n",
              "      <th>Unnamed: 0</th>\n",
              "      <th>Unnamed: 0.1</th>\n",
              "      <th>id</th>\n",
              "      <th>Full name</th>\n",
              "      <th>Profile url</th>\n",
              "      <th>Location</th>\n",
              "      <th>Title</th>\n",
              "      <th>Title_category</th>\n",
              "      <th>Organization 1</th>\n",
              "      <th>Working_years</th>\n",
              "      <th>Non_Student</th>\n",
              "      <th>Education_category</th>\n",
              "      <th>Industry</th>\n",
              "      <th>Profile_similarity</th>\n",
              "      <th>Working_years_scaled</th>\n",
              "      <th>Title_category_scaled</th>\n",
              "      <th>Spending Power</th>\n",
              "      <th>Leasing Propensity</th>\n",
              "      <th>Final Score</th>\n",
              "    </tr>\n",
              "  </thead>\n",
              "  <tbody>\n",
              "    <tr>\n",
              "      <th>0</th>\n",
              "      <td>0</td>\n",
              "      <td>0</td>\n",
              "      <td>weienthong</td>\n",
              "      <td>Wei En THONG</td>\n",
              "      <td>https://www.linkedin.com/in/weienthong/</td>\n",
              "      <td>Singapore</td>\n",
              "      <td>Group Governance and Operational Risk Manageme...</td>\n",
              "      <td>1</td>\n",
              "      <td>GREAT EASTERN</td>\n",
              "      <td>2.0</td>\n",
              "      <td>0.0</td>\n",
              "      <td>1.0</td>\n",
              "      <td>Financial Services</td>\n",
              "      <td>0.873769</td>\n",
              "      <td>0.050</td>\n",
              "      <td>0.000000</td>\n",
              "      <td>0.269231</td>\n",
              "      <td>0.873769</td>\n",
              "      <td>1.206115</td>\n",
              "    </tr>\n",
              "    <tr>\n",
              "      <th>1</th>\n",
              "      <td>1</td>\n",
              "      <td>1</td>\n",
              "      <td>amberpoo</td>\n",
              "      <td>Poo Men Shuen, Amber</td>\n",
              "      <td>https://www.linkedin.com/in/amberpoo/</td>\n",
              "      <td>Singapore</td>\n",
              "      <td>Estate Analyst at Bequest Pte Ltd</td>\n",
              "      <td>1</td>\n",
              "      <td>GREAT EASTERN</td>\n",
              "      <td>5.0</td>\n",
              "      <td>1.0</td>\n",
              "      <td>1.0</td>\n",
              "      <td>Financial Services</td>\n",
              "      <td>0.924473</td>\n",
              "      <td>0.125</td>\n",
              "      <td>0.000000</td>\n",
              "      <td>0.544872</td>\n",
              "      <td>0.924473</td>\n",
              "      <td>1.507108</td>\n",
              "    </tr>\n",
              "    <tr>\n",
              "      <th>2</th>\n",
              "      <td>2</td>\n",
              "      <td>2</td>\n",
              "      <td>jerome-lim</td>\n",
              "      <td>Jerome Lim</td>\n",
              "      <td>https://www.linkedin.com/in/jerome-lim/</td>\n",
              "      <td>Singapore</td>\n",
              "      <td>Impacting Life One at a Time</td>\n",
              "      <td>1</td>\n",
              "      <td>GREAT EASTERN</td>\n",
              "      <td>5.0</td>\n",
              "      <td>1.0</td>\n",
              "      <td>1.0</td>\n",
              "      <td>Financial Services</td>\n",
              "      <td>0.910386</td>\n",
              "      <td>0.125</td>\n",
              "      <td>0.000000</td>\n",
              "      <td>0.544872</td>\n",
              "      <td>0.910386</td>\n",
              "      <td>1.500065</td>\n",
              "    </tr>\n",
              "    <tr>\n",
              "      <th>3</th>\n",
              "      <td>3</td>\n",
              "      <td>3</td>\n",
              "      <td>amanda-lim-30813254</td>\n",
              "      <td>Amanda Lim</td>\n",
              "      <td>https://www.linkedin.com/in/amanda-lim-30813254/</td>\n",
              "      <td>Singapore</td>\n",
              "      <td>Manager at Prudential Assurance Company Singapore</td>\n",
              "      <td>2</td>\n",
              "      <td>Prudential Assurance Company Singapore</td>\n",
              "      <td>9.0</td>\n",
              "      <td>1.0</td>\n",
              "      <td>1.0</td>\n",
              "      <td>Financial Services</td>\n",
              "      <td>0.000000</td>\n",
              "      <td>0.225</td>\n",
              "      <td>0.615385</td>\n",
              "      <td>0.728304</td>\n",
              "      <td>0.000000</td>\n",
              "      <td>1.228304</td>\n",
              "    </tr>\n",
              "    <tr>\n",
              "      <th>4</th>\n",
              "      <td>4</td>\n",
              "      <td>4</td>\n",
              "      <td>ijeremytang</td>\n",
              "      <td>Jeremy Tang</td>\n",
              "      <td>https://www.linkedin.com/in/ijeremytang/</td>\n",
              "      <td>Singapore</td>\n",
              "      <td>Senior Financial Planner at GREAT EASTERN</td>\n",
              "      <td>1</td>\n",
              "      <td>GREAT EASTERN</td>\n",
              "      <td>2.0</td>\n",
              "      <td>0.0</td>\n",
              "      <td>1.0</td>\n",
              "      <td>Financial Services</td>\n",
              "      <td>0.879511</td>\n",
              "      <td>0.050</td>\n",
              "      <td>0.000000</td>\n",
              "      <td>0.269231</td>\n",
              "      <td>0.879511</td>\n",
              "      <td>1.208986</td>\n",
              "    </tr>\n",
              "  </tbody>\n",
              "</table>\n",
              "</div>"
            ],
            "text/plain": [
              "   Unnamed: 0  Unnamed: 0.1  ... Leasing Propensity Final Score\n",
              "0           0             0  ...           0.873769    1.206115\n",
              "1           1             1  ...           0.924473    1.507108\n",
              "2           2             2  ...           0.910386    1.500065\n",
              "3           3             3  ...           0.000000    1.228304\n",
              "4           4             4  ...           0.879511    1.208986\n",
              "\n",
              "[5 rows x 19 columns]"
            ]
          },
          "metadata": {
            "tags": []
          },
          "execution_count": 4
        }
      ]
    },
    {
      "cell_type": "code",
      "metadata": {
        "id": "S0tBXLPgEDVt",
        "colab_type": "code",
        "colab": {}
      },
      "source": [
        "df.to_csv('Linkedin_processed_withscore.csv')"
      ],
      "execution_count": 0,
      "outputs": []
    },
    {
      "cell_type": "markdown",
      "metadata": {
        "id": "-YuJu3fLTX1N",
        "colab_type": "text"
      },
      "source": [
        "# Analysis of final scores"
      ]
    },
    {
      "cell_type": "code",
      "metadata": {
        "id": "t32IkjPzoGjc",
        "colab_type": "code",
        "colab": {}
      },
      "source": [
        "df['Final Score'] = df['Spending Power'] + df['Leasing Propensity']"
      ],
      "execution_count": 0,
      "outputs": []
    },
    {
      "cell_type": "code",
      "metadata": {
        "id": "-KSEX1c2TauP",
        "colab_type": "code",
        "outputId": "1e04bd2a-958c-4e41-a0fa-7592fa60b63e",
        "colab": {
          "base_uri": "https://localhost:8080/",
          "height": 355
        }
      },
      "source": [
        "bins = [0, 0.25, 0.5, 0.75, 1, 1.25, 1.5,1.75,2]\n",
        "s = pd.cut(df['Final Score'], bins=bins).value_counts()\n",
        "s = df.groupby(pd.cut(df['Final Score'], bins=bins)).size()\n",
        "ax = s.plot.bar(title='Final Score')\n",
        "ax.set(xlabel=\"Final Score\", ylabel=\"count\")"
      ],
      "execution_count": 0,
      "outputs": [
        {
          "output_type": "execute_result",
          "data": {
            "text/plain": [
              "[Text(0, 0.5, 'count'), Text(0.5, 0, 'Final Score')]"
            ]
          },
          "metadata": {
            "tags": []
          },
          "execution_count": 6
        },
        {
          "output_type": "display_data",
          "data": {
            "image/png": "[encoded data removed]",
            "text/plain": [
              "<Figure size 432x288 with 1 Axes>"
            ]
          },
          "metadata": {
            "tags": []
          }
        }
      ]
    },
    {
      "cell_type": "markdown",
      "metadata": {
        "id": "VCttF2IxYYnk",
        "colab_type": "text"
      },
      "source": [
        "Take the top 10%, roughly the top 153 profiles"
      ]
    },
    {
      "cell_type": "code",
      "metadata": {
        "id": "pY9ji-fbTmuZ",
        "colab_type": "code",
        "outputId": "7b24f1eb-ce18-43d0-d4bd-1cc6d2d89280",
        "colab": {
          "base_uri": "https://localhost:8080/",
          "height": 960
        }
      },
      "source": [
        "df_final = df[df['Final Score']>= 1.5]\n",
        "df_final"
      ],
      "execution_count": 0,
      "outputs": [
        {
          "output_type": "execute_result",
          "data": {
            "text/html": [
              "<div>\n",
              "<style scoped>\n",
              "    .dataframe tbody tr th:only-of-type {\n",
              "        vertical-align: middle;\n",
              "    }\n",
              "\n",
              "    .dataframe tbody tr th {\n",
              "        vertical-align: top;\n",
              "    }\n",
              "\n",
              "    .dataframe thead th {\n",
              "        text-align: right;\n",
              "    }\n",
              "</style>\n",
              "<table border=\"1\" class=\"dataframe\">\n",
              "  <thead>\n",
              "    <tr style=\"text-align: right;\">\n",
              "      <th></th>\n",
              "      <th>Unnamed: 0</th>\n",
              "      <th>Unnamed: 0.1</th>\n",
              "      <th>Unnamed: 0.1.1</th>\n",
              "      <th>id</th>\n",
              "      <th>Full name</th>\n",
              "      <th>Profile url</th>\n",
              "      <th>Location</th>\n",
              "      <th>Title</th>\n",
              "      <th>Title_category</th>\n",
              "      <th>Organization 1</th>\n",
              "      <th>Working_years</th>\n",
              "      <th>Non_Student</th>\n",
              "      <th>Education_category</th>\n",
              "      <th>Industry</th>\n",
              "      <th>Profile_similarity</th>\n",
              "      <th>Working_years_scaled</th>\n",
              "      <th>Title_category_scaled</th>\n",
              "      <th>Spending Power</th>\n",
              "      <th>Leasing Propensity</th>\n",
              "      <th>Final Score</th>\n",
              "    </tr>\n",
              "  </thead>\n",
              "  <tbody>\n",
              "    <tr>\n",
              "      <th>24</th>\n",
              "      <td>24</td>\n",
              "      <td>24</td>\n",
              "      <td>24</td>\n",
              "      <td>christophertan-aia</td>\n",
              "      <td>Christopher Tan</td>\n",
              "      <td>https://www.linkedin.com/in/christophertan-aia/</td>\n",
              "      <td>Singapore</td>\n",
              "      <td>Director Financial Services at AIA Singapore (...</td>\n",
              "      <td>3</td>\n",
              "      <td>AIA</td>\n",
              "      <td>24.0</td>\n",
              "      <td>1.0</td>\n",
              "      <td>0.428571</td>\n",
              "      <td>Financial Services</td>\n",
              "      <td>0.858319</td>\n",
              "      <td>0.600</td>\n",
              "      <td>1.000000</td>\n",
              "      <td>0.776557</td>\n",
              "      <td>0.858319</td>\n",
              "      <td>1.634875</td>\n",
              "    </tr>\n",
              "    <tr>\n",
              "      <th>26</th>\n",
              "      <td>26</td>\n",
              "      <td>26</td>\n",
              "      <td>26</td>\n",
              "      <td>john-chua-chfc-clu-b5ab9a</td>\n",
              "      <td>John Chua ChFC, CLU</td>\n",
              "      <td>https://www.linkedin.com/in/john-chua-chfc-clu...</td>\n",
              "      <td>Singapore</td>\n",
              "      <td>Making a Difference...</td>\n",
              "      <td>1</td>\n",
              "      <td>RTP Organisation</td>\n",
              "      <td>35.0</td>\n",
              "      <td>1.0</td>\n",
              "      <td>0.714286</td>\n",
              "      <td>Financial Services</td>\n",
              "      <td>0.886153</td>\n",
              "      <td>0.875</td>\n",
              "      <td>0.000000</td>\n",
              "      <td>0.663919</td>\n",
              "      <td>0.886153</td>\n",
              "      <td>1.550073</td>\n",
              "    </tr>\n",
              "    <tr>\n",
              "      <th>29</th>\n",
              "      <td>29</td>\n",
              "      <td>29</td>\n",
              "      <td>29</td>\n",
              "      <td>jackie-wee-2bb31650</td>\n",
              "      <td>Jackie Wee</td>\n",
              "      <td>https://www.linkedin.com/in/jackie-wee-2bb31650/</td>\n",
              "      <td>Singapore</td>\n",
              "      <td>Financial Planner</td>\n",
              "      <td>1</td>\n",
              "      <td>AIA</td>\n",
              "      <td>39.0</td>\n",
              "      <td>1.0</td>\n",
              "      <td>1.000000</td>\n",
              "      <td>Financial Services</td>\n",
              "      <td>0.910752</td>\n",
              "      <td>0.975</td>\n",
              "      <td>0.000000</td>\n",
              "      <td>0.762821</td>\n",
              "      <td>0.910752</td>\n",
              "      <td>1.673572</td>\n",
              "    </tr>\n",
              "    <tr>\n",
              "      <th>37</th>\n",
              "      <td>37</td>\n",
              "      <td>37</td>\n",
              "      <td>37</td>\n",
              "      <td>sherontan</td>\n",
              "      <td>Sheron Tan</td>\n",
              "      <td>https://www.linkedin.com/in/sherontan/</td>\n",
              "      <td>Singapore</td>\n",
              "      <td>Personal Wealth Manager at AIA</td>\n",
              "      <td>2</td>\n",
              "      <td>AIA</td>\n",
              "      <td>9.0</td>\n",
              "      <td>1.0</td>\n",
              "      <td>1.000000</td>\n",
              "      <td>Financial Services</td>\n",
              "      <td>0.868231</td>\n",
              "      <td>0.225</td>\n",
              "      <td>0.615385</td>\n",
              "      <td>0.728304</td>\n",
              "      <td>0.868231</td>\n",
              "      <td>1.596534</td>\n",
              "    </tr>\n",
              "    <tr>\n",
              "      <th>38</th>\n",
              "      <td>38</td>\n",
              "      <td>38</td>\n",
              "      <td>38</td>\n",
              "      <td>kelvin-akw</td>\n",
              "      <td>Ang Kia Wee (Kelvin)</td>\n",
              "      <td>https://www.linkedin.com/in/kelvin-akw/</td>\n",
              "      <td>Singapore</td>\n",
              "      <td>Risk Management Specialist</td>\n",
              "      <td>2</td>\n",
              "      <td>AIA Singapore</td>\n",
              "      <td>9.0</td>\n",
              "      <td>1.0</td>\n",
              "      <td>1.000000</td>\n",
              "      <td>Financial Services</td>\n",
              "      <td>0.910157</td>\n",
              "      <td>0.225</td>\n",
              "      <td>0.169231</td>\n",
              "      <td>0.613905</td>\n",
              "      <td>0.910157</td>\n",
              "      <td>1.524062</td>\n",
              "    </tr>\n",
              "    <tr>\n",
              "      <th>...</th>\n",
              "      <td>...</td>\n",
              "      <td>...</td>\n",
              "      <td>...</td>\n",
              "      <td>...</td>\n",
              "      <td>...</td>\n",
              "      <td>...</td>\n",
              "      <td>...</td>\n",
              "      <td>...</td>\n",
              "      <td>...</td>\n",
              "      <td>...</td>\n",
              "      <td>...</td>\n",
              "      <td>...</td>\n",
              "      <td>...</td>\n",
              "      <td>...</td>\n",
              "      <td>...</td>\n",
              "      <td>...</td>\n",
              "      <td>...</td>\n",
              "      <td>...</td>\n",
              "      <td>...</td>\n",
              "      <td>...</td>\n",
              "    </tr>\n",
              "    <tr>\n",
              "      <th>1236</th>\n",
              "      <td>1236</td>\n",
              "      <td>1236</td>\n",
              "      <td>1242</td>\n",
              "      <td>hilda777</td>\n",
              "      <td>Hilda Huang</td>\n",
              "      <td>https://www.linkedin.com/in/hilda777/</td>\n",
              "      <td>Singapore</td>\n",
              "      <td>Competency Development and Assurance Executive...</td>\n",
              "      <td>1</td>\n",
              "      <td>Prudential Assurance Company Singapore</td>\n",
              "      <td>9.0</td>\n",
              "      <td>1.0</td>\n",
              "      <td>1.000000</td>\n",
              "      <td>Financial Services</td>\n",
              "      <td>0.875546</td>\n",
              "      <td>0.225</td>\n",
              "      <td>0.230769</td>\n",
              "      <td>0.629684</td>\n",
              "      <td>0.875546</td>\n",
              "      <td>1.505231</td>\n",
              "    </tr>\n",
              "    <tr>\n",
              "      <th>1239</th>\n",
              "      <td>1239</td>\n",
              "      <td>1239</td>\n",
              "      <td>1245</td>\n",
              "      <td>dr-jasneet-kalra-801b731b</td>\n",
              "      <td>Dr. Jasneet Kalra</td>\n",
              "      <td>https://www.linkedin.com/in/dr-jasneet-kalra-8...</td>\n",
              "      <td>Singapore</td>\n",
              "      <td>Claims Manager</td>\n",
              "      <td>2</td>\n",
              "      <td>Income</td>\n",
              "      <td>10.0</td>\n",
              "      <td>1.0</td>\n",
              "      <td>1.000000</td>\n",
              "      <td>Financial Services</td>\n",
              "      <td>0.944790</td>\n",
              "      <td>0.250</td>\n",
              "      <td>0.615385</td>\n",
              "      <td>0.734714</td>\n",
              "      <td>0.944790</td>\n",
              "      <td>1.679504</td>\n",
              "    </tr>\n",
              "    <tr>\n",
              "      <th>1243</th>\n",
              "      <td>1243</td>\n",
              "      <td>1243</td>\n",
              "      <td>1249</td>\n",
              "      <td>tze-hong-goh-614314165</td>\n",
              "      <td>Tze Hong Goh</td>\n",
              "      <td>https://www.linkedin.com/in/tze-hong-goh-61431...</td>\n",
              "      <td>Singapore</td>\n",
              "      <td>Senior Manager at Prudential Assurance Company...</td>\n",
              "      <td>2</td>\n",
              "      <td>Prudential Assurance Company Singapore</td>\n",
              "      <td>11.0</td>\n",
              "      <td>1.0</td>\n",
              "      <td>1.000000</td>\n",
              "      <td>Financial Services</td>\n",
              "      <td>0.930597</td>\n",
              "      <td>0.275</td>\n",
              "      <td>0.615385</td>\n",
              "      <td>0.741124</td>\n",
              "      <td>0.930597</td>\n",
              "      <td>1.671721</td>\n",
              "    </tr>\n",
              "    <tr>\n",
              "      <th>1245</th>\n",
              "      <td>1245</td>\n",
              "      <td>1245</td>\n",
              "      <td>1251</td>\n",
              "      <td>cindy-gwee-01442b48</td>\n",
              "      <td>Cindy Gwee</td>\n",
              "      <td>https://www.linkedin.com/in/cindy-gwee-01442b48/</td>\n",
              "      <td>Singapore</td>\n",
              "      <td>Actuarial Senior Executive at Prudential Assur...</td>\n",
              "      <td>1</td>\n",
              "      <td>Prudential Assurance Company Singapore</td>\n",
              "      <td>9.0</td>\n",
              "      <td>1.0</td>\n",
              "      <td>1.000000</td>\n",
              "      <td>Financial Services</td>\n",
              "      <td>0.949442</td>\n",
              "      <td>0.225</td>\n",
              "      <td>0.230769</td>\n",
              "      <td>0.629684</td>\n",
              "      <td>0.949442</td>\n",
              "      <td>1.579127</td>\n",
              "    </tr>\n",
              "    <tr>\n",
              "      <th>1250</th>\n",
              "      <td>1250</td>\n",
              "      <td>1250</td>\n",
              "      <td>1256</td>\n",
              "      <td>karun-uppal</td>\n",
              "      <td>Karun Uppal</td>\n",
              "      <td>https://www.linkedin.com/in/karun-uppal/</td>\n",
              "      <td>Singapore</td>\n",
              "      <td>International Business Manager at Prudential A...</td>\n",
              "      <td>2</td>\n",
              "      <td>Prudential Assurance Company Singapore</td>\n",
              "      <td>5.0</td>\n",
              "      <td>1.0</td>\n",
              "      <td>1.000000</td>\n",
              "      <td>Financial Services</td>\n",
              "      <td>0.920989</td>\n",
              "      <td>0.125</td>\n",
              "      <td>0.615385</td>\n",
              "      <td>0.702663</td>\n",
              "      <td>0.920989</td>\n",
              "      <td>1.623652</td>\n",
              "    </tr>\n",
              "  </tbody>\n",
              "</table>\n",
              "<p>153 rows × 20 columns</p>\n",
              "</div>"
            ],
            "text/plain": [
              "      Unnamed: 0  Unnamed: 0.1  ...  Leasing Propensity Final Score\n",
              "24            24            24  ...            0.858319    1.634875\n",
              "26            26            26  ...            0.886153    1.550073\n",
              "29            29            29  ...            0.910752    1.673572\n",
              "37            37            37  ...            0.868231    1.596534\n",
              "38            38            38  ...            0.910157    1.524062\n",
              "...          ...           ...  ...                 ...         ...\n",
              "1236        1236          1236  ...            0.875546    1.505231\n",
              "1239        1239          1239  ...            0.944790    1.679504\n",
              "1243        1243          1243  ...            0.930597    1.671721\n",
              "1245        1245          1245  ...            0.949442    1.579127\n",
              "1250        1250          1250  ...            0.920989    1.623652\n",
              "\n",
              "[153 rows x 20 columns]"
            ]
          },
          "metadata": {
            "tags": []
          },
          "execution_count": 4
        }
      ]
    },
    {
      "cell_type": "markdown",
      "metadata": {
        "id": "krkVc_fuZQCY",
        "colab_type": "text"
      },
      "source": [
        "## Plot the top 5 organizations"
      ]
    },
    {
      "cell_type": "code",
      "metadata": {
        "id": "cQaGUn2kWIfh",
        "colab_type": "code",
        "outputId": "e7dcb41e-5fc4-452e-d7cb-6ffeccceecf9",
        "colab": {
          "base_uri": "https://localhost:8080/",
          "height": 512
        }
      },
      "source": [
        "CountStatus = pd.value_counts(df_final['Organization 1'].values)   \n",
        "ax = CountStatus.sort_values(ascending=False)[:5].plot.bar(title='Organization')\n",
        "ax.set(ylabel=\"Count\", xlabel=\"Organization\")"
      ],
      "execution_count": 0,
      "outputs": [
        {
          "output_type": "execute_result",
          "data": {
            "text/plain": [
              "[Text(0, 0.5, 'Count'), Text(0.5, 0, 'Organization')]"
            ]
          },
          "metadata": {
            "tags": []
          },
          "execution_count": 5
        },
        {
          "output_type": "display_data",
          "data": {
            "image/png": "[encoded data removed]",
            "text/plain": [
              "<Figure size 432x288 with 1 Axes>"
            ]
          },
          "metadata": {
            "tags": []
          }
        }
      ]
    },
    {
      "cell_type": "markdown",
      "metadata": {
        "id": "28jFDREq_3Ox",
        "colab_type": "text"
      },
      "source": [
        "# Working years distribution"
      ]
    },
    {
      "cell_type": "code",
      "metadata": {
        "id": "QpTQ3PqXZHyp",
        "colab_type": "code",
        "outputId": "7fdf2d3d-0e6b-48c8-e7c8-a8f7f695510a",
        "colab": {
          "base_uri": "https://localhost:8080/",
          "height": 325
        }
      },
      "source": [
        "CountStatus = pd.value_counts(df_final['Working_years'].values)   \n",
        "ax = CountStatus.sort_values(ascending=False).plot.bar(title='Working years')\n",
        "ax.set(ylabel=\"Count\", xlabel=\"Working years\")"
      ],
      "execution_count": 0,
      "outputs": [
        {
          "output_type": "execute_result",
          "data": {
            "text/plain": [
              "[Text(0, 0.5, 'Count'), Text(0.5, 0, 'Working years')]"
            ]
          },
          "metadata": {
            "tags": []
          },
          "execution_count": 6
        },
        {
          "output_type": "display_data",
          "data": {
            "image/png": "[encoded data removed]",
            "text/plain": [
              "<Figure size 432x288 with 1 Axes>"
            ]
          },
          "metadata": {
            "tags": []
          }
        }
      ]
    },
    {
      "cell_type": "code",
      "metadata": {
        "id": "DnBX1sxAnbpD",
        "colab_type": "code",
        "outputId": "0c9f01d9-cd8d-47be-e546-5185b93402b2",
        "colab": {
          "base_uri": "https://localhost:8080/",
          "height": 342
        }
      },
      "source": [
        "bins = [0, 5, 10, 15, 20, 25, 30,35,40]\n",
        "s = pd.cut(df_final['Working_years'], bins=bins).value_counts()\n",
        "s = df_final.groupby(pd.cut(df_final['Working_years'], bins=bins)).size()\n",
        "ax = s.plot.bar(title='Working years')\n",
        "ax.set(xlabel=\"Working years\", ylabel=\"count\")"
      ],
      "execution_count": 0,
      "outputs": [
        {
          "output_type": "execute_result",
          "data": {
            "text/plain": [
              "[Text(0, 0.5, 'count'), Text(0.5, 0, 'Working years')]"
            ]
          },
          "metadata": {
            "tags": []
          },
          "execution_count": 7
        },
        {
          "output_type": "display_data",
          "data": {
            "image/png": "[encoded data removed]",
            "text/plain": [
              "<Figure size 432x288 with 1 Axes>"
            ]
          },
          "metadata": {
            "tags": []
          }
        }
      ]
    },
    {
      "cell_type": "markdown",
      "metadata": {
        "id": "GR2V-YKa_54V",
        "colab_type": "text"
      },
      "source": [
        "# Title category distribution"
      ]
    },
    {
      "cell_type": "code",
      "metadata": {
        "id": "-qKWm8to8ybU",
        "colab_type": "code",
        "outputId": "e9d4a513-aa7b-4398-f161-6adab29a5d00",
        "colab": {
          "base_uri": "https://localhost:8080/",
          "height": 16
        }
      },
      "source": [
        "CountStatus = pd.value_counts(df_final['Title_category'].values)   \n",
        "ax = CountStatus.sort_values(ascending=False)[:5].plot.bar(title='Title_category')\n",
        "ax.set(ylabel=\"Count\", xlabel=\"Title_category\")"
      ],
      "execution_count": 0,
      "outputs": [
        {
          "output_type": "execute_result",
          "data": {
            "text/plain": [
              "[Text(0, 0.5, 'Count'), Text(0.5, 0, 'Title_category')]"
            ]
          },
          "metadata": {
            "tags": []
          },
          "execution_count": 8
        },
        {
          "output_type": "display_data",
          "data": {
            "image/png": "[encoded data removed]",
            "text/plain": [
              "<Figure size 432x288 with 1 Axes>"
            ]
          },
          "metadata": {
            "tags": []
          }
        }
      ]
    }
  ]
}